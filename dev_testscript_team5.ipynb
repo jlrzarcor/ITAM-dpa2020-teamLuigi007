{
 "cells": [
  {
   "cell_type": "markdown",
   "metadata": {},
   "source": [
    "### CHICAGO FOOD INSPECTION'S\n",
    "\n",
    "**Notebook script testing Proyecto equipo 5, ITAM-DPA**\n",
    "Febrero 2021\n",
    "\n",
    "Integrante | Alumno                         | Clave única\n",
    "---------- | ------------------------------ | -----------\n",
    "1          | Carlos Román López Sierra      | 197911\n",
    "2          | José Luis Zárate Cortés        | 183347\n",
    "3          | Octavio Fuentes Ortiz          | 150792\n",
    "4          | Patricia Urriza Arellano       | 152026\n",
    "5          | Uriel Abraham Rangel Díaz      | 193921\n"
   ]
  },
  {
   "cell_type": "code",
   "execution_count": 1,
   "metadata": {},
   "outputs": [],
   "source": [
    "# importing libraries required.\n",
    "\n",
    "import pandas as pd\n",
    "import numpy as np\n",
    "\n",
    "# importing custom libraries\n",
    "import src.utils.general as gral\n",
    "import src.utils.constants as ks\n",
    "import src.pipeline.ingesta_almacenamiento as ial\n"
   ]
  },
  {
   "cell_type": "code",
   "execution_count": 2,
   "metadata": {},
   "outputs": [],
   "source": [
    "# SODAPY. Creating client to Socrata\n",
    "client = ial.get_client()\n",
    "\n",
    "# AWS. Creating client source\n",
    "bucket = \"data-product-architecture-equipo-5\"\n",
    "\n",
    "s3 = ial.get_s3_resource()"
   ]
  },
  {
   "cell_type": "markdown",
   "metadata": {},
   "source": [
    "______\n",
    "**Extraer datos ingesta inicial:**\n",
    "* Función: **ingesta_inicial**, previamente importada de nuestra librería \"ingesta_almacenamiento\"\n",
    "* Los parámetros de la función son:\n",
    "    * client = clien (conectado a la API de inspecciones)\n",
    "    * limite = límite de registros a descargar. Se deberán considerar 300,000 registros para garantizar una ingesta completa. El número de registros actual es inferior."
   ]
  },
  {
   "cell_type": "code",
   "execution_count": 3,
   "metadata": {},
   "outputs": [],
   "source": [
    "data_ii = ial.ingesta_inicial(client, 3000)"
   ]
  },
  {
   "cell_type": "markdown",
   "metadata": {},
   "source": [
    "________\n",
    "\n",
    "\n",
    "**Extraer datos ingesta consecutiva:**\n",
    "* Función: **ingesta_consecutiva**, previamente importada de nuestra librería \"ingesta_almacenamiento\"\n",
    "* Los parámetros de la función son:\n",
    "    * cliente = client (conexión a la API de inspecciones)\n",
    "    * delta_date = definir la fecha de última extracción (variable \"inspection_date\") a partir de la cual se inica la extracción de la información (delta).  \n",
    "      La variable es un tipo **timestamp** (se considera texto) y deberá tener el siguiente formato:  \n",
    "      - **'AAAA-MM-DDT00:00:000'**  \n",
    "      - Respetar las **comillas** simples\n",
    "      - AAAA 4 dígitos del **año**, MM 2 del **mes** y DD dos del **día**;  \n",
    "      - **T** es un separador para el horario.\n",
    "      - Conservar los dígitos en **0**.\n",
    "    * limite = es un límite superior virtual de registros a descargar. Garantiza que las extracciones sean completas. En este caso 1000 es suficiente."
   ]
  },
  {
   "cell_type": "code",
   "execution_count": 4,
   "metadata": {},
   "outputs": [],
   "source": [
    "data_ic = ial.ingesta_consecutiva(client, '2021-02-15T00:00:00.000', 1000)"
   ]
  },
  {
   "cell_type": "markdown",
   "metadata": {},
   "source": [
    "_______\n",
    "\n",
    "**Guardar los datos en el Bucket de S3**\n",
    "* Función: **guardar_ingesta**, previamente importada de nuestra librería \"ingesta_almacenamiento\"\n",
    "* Variables:\n",
    "  * my_bucket: se debe indicar el nombre del Bucket de su cuenta de S3 donde será descargada la info,\n",
    "  * bucket_path: se debe indicar el nombre de la ruta donde se descarga el archivo considerando lo siguiente (valores declarados inicialmente):\n",
    "      * key1 = \"ingestion/initial\"\n",
    "      * key2 = \"ingestion/consecutive\"\n",
    "  * data: corresponde a los datos previamente descargados de la API de inspecciones con las funciones, ya sea data_ii o data_ic correspondientes a ingesta inicial e ingesta consecutiva respectivamente.\n"
   ]
  },
  {
   "cell_type": "code",
   "execution_count": 6,
   "metadata": {},
   "outputs": [],
   "source": [
    "ial.guardar_ingesta(bucket, ks.key1, data_ii)"
   ]
  },
  {
   "cell_type": "code",
   "execution_count": 8,
   "metadata": {},
   "outputs": [],
   "source": [
    "ial.guardar_ingesta(bucket, ks.key2, data_ic)"
   ]
  }
 ],
 "metadata": {
  "kernelspec": {
   "display_name": "Python 3",
   "language": "python",
   "name": "python3"
  },
  "language_info": {
   "codemirror_mode": {
    "name": "ipython",
    "version": 3
   },
   "file_extension": ".py",
   "mimetype": "text/x-python",
   "name": "python",
   "nbconvert_exporter": "python",
   "pygments_lexer": "ipython3",
   "version": "3.7.4"
  }
 },
 "nbformat": 4,
 "nbformat_minor": 2
}
