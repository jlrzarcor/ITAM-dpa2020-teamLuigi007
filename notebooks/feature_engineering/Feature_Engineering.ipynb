{
 "cells": [
  {
   "cell_type": "markdown",
   "metadata": {},
   "source": [
    "# Proyecto - *Data Product Architecture* (Primavera 2021)\n",
    "## *Chicago Food Inspections*\n",
    "## Maestría en Ciencia de Datos, ITAM\n",
    "### M. Sc. Liliana Millán Núñez\n",
    "### *Checkpoint* 4: *Feature Engineering*\n",
    "#### Equipo 5\n",
    "---"
   ]
  },
  {
   "cell_type": "code",
   "execution_count": 1,
   "metadata": {},
   "outputs": [
    {
     "data": {
      "image/png": "[encoded data removed]",
      "text/plain": [
       "<IPython.core.display.Image object>"
      ]
     },
     "execution_count": 1,
     "metadata": {},
     "output_type": "execute_result"
    }
   ],
   "source": [
    "from IPython.display import Image\n",
    "Image(\"itam_logo.png\")"
   ]
  },
  {
   "cell_type": "markdown",
   "metadata": {},
   "source": [
    "---\n",
    "\n",
    "Integrante | Alumno                         | Clave única\n",
    "---------- | ------------------------------ | -----------\n",
    "1          | Carlos Román López Sierra      | 197911\n",
    "2          | José Luis Zárate Cortés        | 183347\n",
    "3          | Octavio Fuentes Ortiz          | 150792\n",
    "4          | Patricia Urriza Arellano       | 152026\n",
    "5          | Uriel Abraham Rangel Díaz      | 193921\n",
    "\n",
    "Jueves 8 de abril de 2021\n",
    "\n",
    "---\n",
    "\n",
    "**¿Qué pregunta analítica buscamos contestar con nuestro modelo?** \n",
    "\n",
    "Buscamos contestar si el establecimiento pasará o no pasará la inspección.\n",
    "\n",
    "---\n",
    "\n",
    "Los paquetes que utilizamos son:\n",
    "- [***numpy***](https://numpy.org/)\n",
    "- [***pandas***](https://pandas.pydata.org/)\n",
    "- [***geopandas***](https://geopandas.org/)\n",
    "- [***shapely***](https://pypi.org/project/Shapely/)\n",
    "- [***datetime***](https://docs.python.org/3/library/datetime.html)\n",
    "- [***csv***](https://docs.python.org/3/library/csv.html)\n",
    "- [***plotly express***](https://pypi.org/project/plotly-express/)\n",
    "- [***matplotlib***](https://matplotlib.org/)\n",
    "- [***seaborn***](https://seaborn.pydata.org/)\n",
    "\n",
    "---"
   ]
  },
  {
   "cell_type": "code",
   "execution_count": 2,
   "metadata": {},
   "outputs": [],
   "source": [
    "import numpy as np\n",
    "import pandas as pd\n",
    "from pandas import DataFrame\n",
    "import geopandas as gpd\n",
    "from geopandas import GeoDataFrame as gdf\n",
    "from shapely import wkt\n",
    "from datetime import datetime\n",
    "from datetime import timedelta\n",
    "import csv\n",
    "import plotly.express as px\n",
    "import matplotlib\n",
    "import matplotlib.pyplot as plt\n",
    "import seaborn as sns\n",
    "from IPython.display import display, HTML\n",
    "import warnings\n",
    "warnings.filterwarnings('ignore')\n",
    "from matplotlib.pyplot import figure\n",
    "from sodapy import Socrata\n",
    "import seaborn as sns \n",
    "import random\n",
    "\n",
    "from sklearn.preprocessing import StandardScaler, OneHotEncoder, KBinsDiscretizer\n",
    "from sklearn.impute import SimpleImputer\n",
    "from sklearn.compose import ColumnTransformer\n",
    "\n",
    "from sklearn.preprocessing import MinMaxScaler, QuantileTransformer\n",
    "from sklearn.feature_selection import VarianceThreshold\n",
    "import time \n",
    "\n",
    "from sklearn.model_selection import GridSearchCV\n",
    "from sklearn.model_selection import train_test_split\n",
    "from sklearn.ensemble import RandomForestClassifier\n",
    "\n",
    "from sklearn.tree import DecisionTreeClassifier\n",
    "\n",
    "import pickle"
   ]
  },
  {
   "cell_type": "markdown",
   "metadata": {},
   "source": [
    "Cargamos los datos desde la Api de Socrata"
   ]
  },
  {
   "cell_type": "code",
   "execution_count": 3,
   "metadata": {},
   "outputs": [
    {
     "name": "stderr",
     "output_type": "stream",
     "text": [
      "WARNING:root:Requests made without an app_token will be subject to strict throttling limits.\n"
     ]
    }
   ],
   "source": [
    "client = Socrata(\"data.cityofchicago.org\", None)\n",
    "results = client.get(\"4ijn-s7e5\", limit=400000)\n",
    "df = pd.DataFrame.from_records(results)\n",
    "col_names = df.columns.to_list()\n",
    "col_name = []\n",
    "for i in range(len(col_names)):\n",
    "    col_name.append(col_names[i].replace(\" \", \"_\").lower())\n",
    "df.columns =col_name\n",
    "# Eliminamos el '_' que aparece al final en la columna 'license_'\n",
    "df.rename(columns={'license_':'license'}, inplace=True)"
   ]
  },
  {
   "cell_type": "code",
   "execution_count": 4,
   "metadata": {},
   "outputs": [],
   "source": [
    "pickle.dump(df,open(\"ingesta.pkl\",\"wb\"))"
   ]
  },
  {
   "cell_type": "code",
   "execution_count": 3,
   "metadata": {},
   "outputs": [],
   "source": [
    "df = pickle.load(open(\"ingesta.pkl\",\"rb\"))"
   ]
  },
  {
   "cell_type": "markdown",
   "metadata": {},
   "source": [
    "---\n",
    "\n",
    "## Valores faltantes\n",
    "\n",
    "Revisamos los *missing values* de nuestra base de datos:"
   ]
  },
  {
   "cell_type": "code",
   "execution_count": 4,
   "metadata": {
    "scrolled": false
   },
   "outputs": [
    {
     "data": {
      "text/html": [
       "<div>\n",
       "<style scoped>\n",
       "    .dataframe tbody tr th:only-of-type {\n",
       "        vertical-align: middle;\n",
       "    }\n",
       "\n",
       "    .dataframe tbody tr th {\n",
       "        vertical-align: top;\n",
       "    }\n",
       "\n",
       "    .dataframe thead th {\n",
       "        text-align: right;\n",
       "    }\n",
       "</style>\n",
       "<table border=\"1\" class=\"dataframe\">\n",
       "  <thead>\n",
       "    <tr style=\"text-align: right;\">\n",
       "      <th></th>\n",
       "      <th>Proporción de valores faltantes</th>\n",
       "    </tr>\n",
       "  </thead>\n",
       "  <tbody>\n",
       "    <tr>\n",
       "      <th>inspection_id</th>\n",
       "      <td>0.00</td>\n",
       "    </tr>\n",
       "    <tr>\n",
       "      <th>dba_name</th>\n",
       "      <td>0.00</td>\n",
       "    </tr>\n",
       "    <tr>\n",
       "      <th>aka_name</th>\n",
       "      <td>1.14</td>\n",
       "    </tr>\n",
       "    <tr>\n",
       "      <th>license</th>\n",
       "      <td>0.01</td>\n",
       "    </tr>\n",
       "    <tr>\n",
       "      <th>facility_type</th>\n",
       "      <td>2.25</td>\n",
       "    </tr>\n",
       "    <tr>\n",
       "      <th>risk</th>\n",
       "      <td>0.03</td>\n",
       "    </tr>\n",
       "    <tr>\n",
       "      <th>address</th>\n",
       "      <td>0.00</td>\n",
       "    </tr>\n",
       "    <tr>\n",
       "      <th>city</th>\n",
       "      <td>0.08</td>\n",
       "    </tr>\n",
       "    <tr>\n",
       "      <th>state</th>\n",
       "      <td>0.02</td>\n",
       "    </tr>\n",
       "    <tr>\n",
       "      <th>zip</th>\n",
       "      <td>0.02</td>\n",
       "    </tr>\n",
       "    <tr>\n",
       "      <th>inspection_date</th>\n",
       "      <td>0.00</td>\n",
       "    </tr>\n",
       "    <tr>\n",
       "      <th>inspection_type</th>\n",
       "      <td>0.00</td>\n",
       "    </tr>\n",
       "    <tr>\n",
       "      <th>results</th>\n",
       "      <td>0.00</td>\n",
       "    </tr>\n",
       "    <tr>\n",
       "      <th>violations</th>\n",
       "      <td>26.73</td>\n",
       "    </tr>\n",
       "    <tr>\n",
       "      <th>latitude</th>\n",
       "      <td>0.34</td>\n",
       "    </tr>\n",
       "    <tr>\n",
       "      <th>longitude</th>\n",
       "      <td>0.34</td>\n",
       "    </tr>\n",
       "    <tr>\n",
       "      <th>location</th>\n",
       "      <td>0.34</td>\n",
       "    </tr>\n",
       "  </tbody>\n",
       "</table>\n",
       "</div>"
      ],
      "text/plain": [
       "                 Proporción de valores faltantes\n",
       "inspection_id                               0.00\n",
       "dba_name                                    0.00\n",
       "aka_name                                    1.14\n",
       "license                                     0.01\n",
       "facility_type                               2.25\n",
       "risk                                        0.03\n",
       "address                                     0.00\n",
       "city                                        0.08\n",
       "state                                       0.02\n",
       "zip                                         0.02\n",
       "inspection_date                             0.00\n",
       "inspection_type                             0.00\n",
       "results                                     0.00\n",
       "violations                                 26.73\n",
       "latitude                                    0.34\n",
       "longitude                                   0.34\n",
       "location                                    0.34"
      ]
     },
     "execution_count": 4,
     "metadata": {},
     "output_type": "execute_result"
    }
   ],
   "source": [
    "missings_prop = df.apply(lambda x: round(x.isnull().sum()/df.shape[0]*100, 2))\n",
    "missings_numeric_df = pd.DataFrame({'Proporción de valores faltantes': missings_prop})\n",
    "missings_numeric_df"
   ]
  },
  {
   "cell_type": "markdown",
   "metadata": {},
   "source": [
    "- Observamos que en la variable ***violations*** tenemos  casi un 27% de registros faltantes. Esto hace sentido pues es un campo abierto donde se redacta la o las violaciones en las que incurrió el negocio, sin embargo, cuando aparece el campo como vacío, esto podría ser porque el negocio pasó la inspección y por ende no incurrió en violación alguna.\n",
    "\n",
    "- También observamos que falta el mismo porcentaje tanto en ***location***, como en ***latitude*** y ***longitude***. Por lo tanto, consideramos que podremos descartar más adelante la variable *location*, pues contiene información repetida.\n",
    "\n",
    "- El porcentaje de faltantes en ***license*** es muy bajo. Consideramos que podemos simplemente eliminar estos valores."
   ]
  },
  {
   "cell_type": "markdown",
   "metadata": {},
   "source": [
    "---\n",
    "\n",
    "## *Feature Selection*\n",
    "\n",
    "**¿Qué variables debemos eliminar porque no las podremos tener en el momento de la predicción?**\n",
    "\n",
    "Las variables que decidimos quitar son las siguientes, pues no se tendrán para el modelo:\n",
    "\n",
    "- ***inspection_id***\n",
    "\n",
    "- ***dba_name***\n",
    "\n",
    "- ***adress***\n",
    "\n",
    "- ***city***\n",
    "\n",
    "- ***state***\n",
    "\n",
    "- ***location***\n",
    "\n",
    "- ***latitude***\n",
    "\n",
    "- ***longitude***\n",
    "\n",
    "**¿Qué variables debemos conservar porque sí las podremos tener en el momento de la predicción?**\n",
    "\n",
    "- ***aka_name***\n",
    "\n",
    "- ***license***\n",
    "\n",
    "- ***facility_type***\n",
    "\n",
    "- ***risk***\n",
    "\n",
    "- ***zip***\n",
    "\n",
    "- ***inspection_date***\n",
    "\n",
    "- ***inspection_type***\n",
    "\n",
    "- ***results***\n",
    "\n",
    "- ***violations***\n",
    "\n",
    "Las variables con las que no trabajaremos aún no las quitamos, pues algunas nos servirán para imputar valores faltantes. Por ejemplo, cuando ***'aka_name'*** no contenga información, imputaremos con el valor proporcionado con ***'dba_name'***. También porque hay variables como ***'violations'*** que se convertirán en ***'violations_count'***. Todo esto lo iremos explicando más adelante en el ***Feature Transformation***."
   ]
  },
  {
   "cell_type": "markdown",
   "metadata": {},
   "source": [
    "---\n",
    "\n",
    "## *Feature Transformation*\n",
    "\n",
    "¿Qué variables debemos transformar para facilitar el trabajo del modelo de clasificación?\n",
    "\n",
    "### Transformación de variables\n",
    "\n"
   ]
  },
  {
   "cell_type": "markdown",
   "metadata": {},
   "source": [
    "#### Variables de texto\n",
    "\n",
    "Creamos la variable ***'violations_count'***, que nos permite saber en cuántas violaciones incurrió el establecimiento durante la inspección:"
   ]
  },
  {
   "cell_type": "code",
   "execution_count": 5,
   "metadata": {},
   "outputs": [],
   "source": [
    "df['violations']= df['violations'].astype('object')"
   ]
  },
  {
   "cell_type": "code",
   "execution_count": 6,
   "metadata": {},
   "outputs": [],
   "source": [
    "df['violations_count'] = df.violations.str.count(r'\\|')+1"
   ]
  },
  {
   "cell_type": "code",
   "execution_count": 7,
   "metadata": {},
   "outputs": [],
   "source": [
    "df['violations_count'] = df.violations_count.fillna(0)"
   ]
  },
  {
   "cell_type": "code",
   "execution_count": 8,
   "metadata": {},
   "outputs": [],
   "source": [
    "df.drop(['violations'],axis = 1, inplace = True)"
   ]
  },
  {
   "cell_type": "markdown",
   "metadata": {},
   "source": [
    "#### Variables categóricas"
   ]
  },
  {
   "cell_type": "code",
   "execution_count": 9,
   "metadata": {},
   "outputs": [],
   "source": [
    "df['dba_name']= df['dba_name'].astype('category')\n",
    "df['aka_name']= df['aka_name'].astype('category')\n",
    "df['facility_type']= df['facility_type'].astype('category')\n",
    "df['risk']= df['risk'].astype('category')\n",
    "df['address']= df['address'].astype('category')\n",
    "df['city']= df['city'].astype('category')\n",
    "df['state']= df['state'].astype('category')\n",
    "df['inspection_type']= df['inspection_type'].astype('category')\n",
    "df['results']= df['results'].astype('category')"
   ]
  },
  {
   "cell_type": "markdown",
   "metadata": {},
   "source": [
    "En la variable ***results***, tenemos 7 tipos de resultados distintos:\n",
    "\n",
    "- ***Business Not Located***\n",
    "- ***No Entry***\n",
    "- ***Not Ready***\n",
    "- ***Out of Business***\n",
    "- ***Fail***\n",
    "- ***Pass***\n",
    "- ***Pass w/ Conditions***\n",
    "\n",
    "Creamos una variable llamada ***'label_results'***, donde la etiqueta 0 implica que la inspección no pasó, la etiqueta 1 implica que la inspección sí pasó y por último, la etiqueta 2 en otro caso:"
   ]
  },
  {
   "cell_type": "code",
   "execution_count": 10,
   "metadata": {},
   "outputs": [],
   "source": [
    "df_np1 = df[df['results'] == 'Fail']\n",
    "df_np1['label_results'] = 0\n",
    "\n",
    "df_np2 = df[df['results'] == 'Pass']\n",
    "df_np2['label_results'] = 1\n",
    "\n",
    "df_np3 = df[df['results'] == 'Pass w/ Conditions']\n",
    "df_np3['label_results'] = 1\n",
    "\n",
    "df_np4 = df[df['results'] == 'Business Not Located']\n",
    "df_np4['label_results'] = 2\n",
    "\n",
    "df_np5 = df[df['results'] == 'No Entry']\n",
    "df_np5['label_results'] = 2\n",
    "\n",
    "df_np6 = df[df['results'] == 'Not Ready']\n",
    "df_np6['label_results'] = 2\n",
    "\n",
    "df_np7 = df[df['results'] == 'Out of Business']\n",
    "df_np7['label_results'] = 2\n",
    "\n",
    "df = df_np1.append(df_np2).append(df_np3).append(df_np4).append(df_np5).append(df_np6).append(df_np7)"
   ]
  },
  {
   "cell_type": "markdown",
   "metadata": {},
   "source": [
    "Quitamos la variable ***'results'***:"
   ]
  },
  {
   "cell_type": "code",
   "execution_count": 11,
   "metadata": {},
   "outputs": [],
   "source": [
    "df.drop(['results'], axis = 1, inplace = True)"
   ]
  },
  {
   "cell_type": "markdown",
   "metadata": {},
   "source": [
    "En nuestro ***GEDA*** observamos que los resultados que agrupamos con la etiqueta 2, juntos apenas representan poco más del 10% del total de las inspecciones. Aunado a esto, ya que no son resultados que impliquen directamente que el establecimiento no pasó o sí pasó la(s) inspección(es), los quitamos."
   ]
  },
  {
   "cell_type": "code",
   "execution_count": 12,
   "metadata": {},
   "outputs": [],
   "source": [
    "df.drop(df.loc[df['label_results'] == 2].index, inplace=True)"
   ]
  },
  {
   "cell_type": "markdown",
   "metadata": {},
   "source": [
    "En la variable ***risk***, tenemos 5 tipos de resultados distintos:\n",
    "\n",
    "- ***risk 1 (high)***\n",
    "- ***risk 2 (medium)***\n",
    "- ***risk 3 (low)***\n",
    "- ***all***\n",
    "- ***NaN***\n",
    "\n",
    "Creamos una variable llamada ***'label_risk'***, donde la etiqueta 3 implica que el riesgo es ***risk 1 (high)***, la etiqueta 2 implica que el riesgo es ***risk 2 (medium)***, la etiqueta 1 implica que el riesgo es ***risk 3 (low)*** y la etiqueta 0 implica que el riesgo es ***all*** o ***valores nulos***:"
   ]
  },
  {
   "cell_type": "code",
   "execution_count": 13,
   "metadata": {},
   "outputs": [],
   "source": [
    "df['risk'] = df['risk'].replace([\"Risk 1 (High)\"],3)"
   ]
  },
  {
   "cell_type": "code",
   "execution_count": 14,
   "metadata": {},
   "outputs": [],
   "source": [
    "df['risk'] = df['risk'].replace([\"Risk 2 (Medium)\"],2)"
   ]
  },
  {
   "cell_type": "code",
   "execution_count": 15,
   "metadata": {},
   "outputs": [],
   "source": [
    "df['risk'] = df['risk'].replace([\"Risk 3 (Low)\"],1)"
   ]
  },
  {
   "cell_type": "code",
   "execution_count": 16,
   "metadata": {},
   "outputs": [],
   "source": [
    "df['risk'] = df['risk'].replace([\"All\"],0)"
   ]
  },
  {
   "cell_type": "code",
   "execution_count": 17,
   "metadata": {},
   "outputs": [],
   "source": [
    "df['risk'] = pd.to_numeric(df['risk'], errors='coerce')\n",
    "df['risk'] = df['risk'].fillna(0)"
   ]
  },
  {
   "cell_type": "code",
   "execution_count": 18,
   "metadata": {},
   "outputs": [],
   "source": [
    "df=df.rename(columns = {'risk':'label_risk'})"
   ]
  },
  {
   "cell_type": "markdown",
   "metadata": {},
   "source": [
    "#### Variables de fecha"
   ]
  },
  {
   "cell_type": "code",
   "execution_count": 19,
   "metadata": {},
   "outputs": [],
   "source": [
    "df['inspection_date'] = pd.to_datetime(df['inspection_date'], infer_datetime_format=True)"
   ]
  },
  {
   "cell_type": "markdown",
   "metadata": {},
   "source": [
    "Creamos la variable '***inspection_month***' que contiene el mes de la inspección:"
   ]
  },
  {
   "cell_type": "code",
   "execution_count": 20,
   "metadata": {},
   "outputs": [],
   "source": [
    "df['inspection_month']=df['inspection_date'].dt.month"
   ]
  },
  {
   "cell_type": "markdown",
   "metadata": {},
   "source": [
    "Creamos la variable '***inspection_weekday***' que contiene el día de la semana de la inspección:"
   ]
  },
  {
   "cell_type": "code",
   "execution_count": 21,
   "metadata": {},
   "outputs": [],
   "source": [
    "df['inspection_weekday']=df['inspection_date'].dt.weekday"
   ]
  },
  {
   "cell_type": "markdown",
   "metadata": {},
   "source": [
    "### Limpieza e imputación de datos"
   ]
  },
  {
   "cell_type": "markdown",
   "metadata": {},
   "source": [
    "- ***'aka_name'*** lo imputamos con ***'dba_name'***:"
   ]
  },
  {
   "cell_type": "code",
   "execution_count": 22,
   "metadata": {},
   "outputs": [],
   "source": [
    "df['dba_name']= df['dba_name'].astype('object')\n",
    "df['aka_name']= df['aka_name'].astype('object')"
   ]
  },
  {
   "cell_type": "code",
   "execution_count": 23,
   "metadata": {},
   "outputs": [],
   "source": [
    "df['aka_name'] = df['aka_name'].fillna(df['dba_name'])"
   ]
  },
  {
   "cell_type": "markdown",
   "metadata": {},
   "source": [
    "Las columnas que son de tipo texto las pasamos a minúsculas:"
   ]
  },
  {
   "cell_type": "code",
   "execution_count": 24,
   "metadata": {},
   "outputs": [],
   "source": [
    "df['dba_name']= df['dba_name'].astype(str).str.lower()\n",
    "df['aka_name']= df['aka_name'].astype(str).str.lower()\n",
    "df['facility_type']= df['facility_type'].astype(str).str.lower()\n",
    "df['state']= df['state'].astype(str).str.lower()\n",
    "df['inspection_type']= df['inspection_type'].astype(str).str.lower()"
   ]
  },
  {
   "cell_type": "markdown",
   "metadata": {},
   "source": [
    "Nos quedamos sólo con el estado de *Illinois*:"
   ]
  },
  {
   "cell_type": "code",
   "execution_count": 25,
   "metadata": {},
   "outputs": [],
   "source": [
    "df = df[~df['state'].isin(['wi', 'ny', 'in'])]"
   ]
  },
  {
   "cell_type": "markdown",
   "metadata": {},
   "source": [
    "Eliminamos espacios en blanco (reemplazamos con guiones bajos) y eliminamos caracteres especiales:"
   ]
  },
  {
   "cell_type": "code",
   "execution_count": 26,
   "metadata": {},
   "outputs": [],
   "source": [
    "def standarize_column_strings(df, columns, excluded_punctuation=\".,*¿?¡!\"):\n",
    "    for col in columns:\n",
    "        df[col] = df[col].str.lower().astype(str).str.replace(\" \", \"_\")\n",
    "        df[col] = df[col].str.lower().astype(str).str.replace(\"-\", \"_\")\n",
    "        df[col] = df[col].str.lower().astype(str).str.replace(\"á\", \"a\")\n",
    "        df[col] = df[col].str.lower().astype(str).str.replace(\"é\", \"e\")\n",
    "        df[col] = df[col].str.lower().astype(str).str.replace(\"í\", \"i\")\n",
    "        df[col] = df[col].str.lower().astype(str).str.replace(\"ó\", \"o\")\n",
    "        df[col] = df[col].str.lower().astype(str).str.replace(\"ú\", \"u\")\n",
    "        df[col] = df[col].str.lower().astype(str).str.replace(\"ü\", \"u\")\n",
    "        df[col] = df[col].str.lower().astype(str).str.replace(r\"[^a-zA-Z\\d\\_]+\", \"\")\n",
    "        for ch in excluded_punctuation:\n",
    "            df[col] = df[col].str.replace(ch, \"\")"
   ]
  },
  {
   "cell_type": "code",
   "execution_count": 27,
   "metadata": {},
   "outputs": [],
   "source": [
    "col_text = ['dba_name','aka_name']\n",
    "standarize_column_strings(df, col_text)"
   ]
  },
  {
   "cell_type": "code",
   "execution_count": 28,
   "metadata": {},
   "outputs": [
    {
     "data": {
      "text/html": [
       "<div>\n",
       "<style scoped>\n",
       "    .dataframe tbody tr th:only-of-type {\n",
       "        vertical-align: middle;\n",
       "    }\n",
       "\n",
       "    .dataframe tbody tr th {\n",
       "        vertical-align: top;\n",
       "    }\n",
       "\n",
       "    .dataframe thead th {\n",
       "        text-align: right;\n",
       "    }\n",
       "</style>\n",
       "<table border=\"1\" class=\"dataframe\">\n",
       "  <thead>\n",
       "    <tr style=\"text-align: right;\">\n",
       "      <th></th>\n",
       "      <th>Proporción de valores faltantes</th>\n",
       "    </tr>\n",
       "  </thead>\n",
       "  <tbody>\n",
       "    <tr>\n",
       "      <th>inspection_id</th>\n",
       "      <td>0.00</td>\n",
       "    </tr>\n",
       "    <tr>\n",
       "      <th>dba_name</th>\n",
       "      <td>0.00</td>\n",
       "    </tr>\n",
       "    <tr>\n",
       "      <th>aka_name</th>\n",
       "      <td>0.00</td>\n",
       "    </tr>\n",
       "    <tr>\n",
       "      <th>license</th>\n",
       "      <td>0.01</td>\n",
       "    </tr>\n",
       "    <tr>\n",
       "      <th>facility_type</th>\n",
       "      <td>0.00</td>\n",
       "    </tr>\n",
       "    <tr>\n",
       "      <th>label_risk</th>\n",
       "      <td>0.00</td>\n",
       "    </tr>\n",
       "    <tr>\n",
       "      <th>address</th>\n",
       "      <td>0.00</td>\n",
       "    </tr>\n",
       "    <tr>\n",
       "      <th>city</th>\n",
       "      <td>0.07</td>\n",
       "    </tr>\n",
       "    <tr>\n",
       "      <th>state</th>\n",
       "      <td>0.00</td>\n",
       "    </tr>\n",
       "    <tr>\n",
       "      <th>zip</th>\n",
       "      <td>0.02</td>\n",
       "    </tr>\n",
       "    <tr>\n",
       "      <th>inspection_date</th>\n",
       "      <td>0.00</td>\n",
       "    </tr>\n",
       "    <tr>\n",
       "      <th>inspection_type</th>\n",
       "      <td>0.00</td>\n",
       "    </tr>\n",
       "    <tr>\n",
       "      <th>latitude</th>\n",
       "      <td>0.37</td>\n",
       "    </tr>\n",
       "    <tr>\n",
       "      <th>longitude</th>\n",
       "      <td>0.37</td>\n",
       "    </tr>\n",
       "    <tr>\n",
       "      <th>location</th>\n",
       "      <td>0.37</td>\n",
       "    </tr>\n",
       "    <tr>\n",
       "      <th>violations_count</th>\n",
       "      <td>0.00</td>\n",
       "    </tr>\n",
       "    <tr>\n",
       "      <th>label_results</th>\n",
       "      <td>0.00</td>\n",
       "    </tr>\n",
       "    <tr>\n",
       "      <th>inspection_month</th>\n",
       "      <td>0.00</td>\n",
       "    </tr>\n",
       "    <tr>\n",
       "      <th>inspection_weekday</th>\n",
       "      <td>0.00</td>\n",
       "    </tr>\n",
       "  </tbody>\n",
       "</table>\n",
       "</div>"
      ],
      "text/plain": [
       "                    Proporción de valores faltantes\n",
       "inspection_id                                  0.00\n",
       "dba_name                                       0.00\n",
       "aka_name                                       0.00\n",
       "license                                        0.01\n",
       "facility_type                                  0.00\n",
       "label_risk                                     0.00\n",
       "address                                        0.00\n",
       "city                                           0.07\n",
       "state                                          0.00\n",
       "zip                                            0.02\n",
       "inspection_date                                0.00\n",
       "inspection_type                                0.00\n",
       "latitude                                       0.37\n",
       "longitude                                      0.37\n",
       "location                                       0.37\n",
       "violations_count                               0.00\n",
       "label_results                                  0.00\n",
       "inspection_month                               0.00\n",
       "inspection_weekday                             0.00"
      ]
     },
     "execution_count": 28,
     "metadata": {},
     "output_type": "execute_result"
    }
   ],
   "source": [
    "missings_prop = df.apply(lambda x: round(x.isnull().sum()/df.shape[0]*100, 2))\n",
    "missings_numeric_df = pd.DataFrame({'Proporción de valores faltantes': missings_prop})\n",
    "missings_numeric_df"
   ]
  },
  {
   "cell_type": "code",
   "execution_count": null,
   "metadata": {},
   "outputs": [],
   "source": []
  }
 ],
 "metadata": {
  "kernelspec": {
   "display_name": "itam_intro_to_ds",
   "language": "python",
   "name": "itam_intro_to_ds"
  },
  "language_info": {
   "codemirror_mode": {
    "name": "ipython",
    "version": 3
   },
   "file_extension": ".py",
   "mimetype": "text/x-python",
   "name": "python",
   "nbconvert_exporter": "python",
   "pygments_lexer": "ipython3",
   "version": "3.7.4"
  }
 },
 "nbformat": 4,
 "nbformat_minor": 4
}
