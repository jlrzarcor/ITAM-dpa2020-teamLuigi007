{
 "cells": [
  {
   "cell_type": "code",
   "execution_count": 4,
   "metadata": {},
   "outputs": [],
   "source": [
    "import os\n",
    "import pickle\n",
    "import datetime\n",
    "import numpy as np \n",
    "import pandas as pd\n",
    "\n",
    "def standarize_column_strings(df, columns, excluded_punctuation=\".,*¿?¡!\"):\n",
    "    for col in columns:\n",
    "        df[col] = df[col].str.lower().astype(str).str.replace(\" \", \"_\")\n",
    "        df[col] = df[col].str.lower().astype(str).str.replace(\"-\", \"_\")\n",
    "        df[col] = df[col].str.lower().astype(str).str.replace(\"á\", \"a\")\n",
    "        df[col] = df[col].str.lower().astype(str).str.replace(\"é\", \"e\")\n",
    "        df[col] = df[col].str.lower().astype(str).str.replace(\"í\", \"i\")\n",
    "        df[col] = df[col].str.lower().astype(str).str.replace(\"ó\", \"o\")\n",
    "        df[col] = df[col].str.lower().astype(str).str.replace(\"ú\", \"u\")\n",
    "        df[col] = df[col].str.lower().astype(str).str.replace(\"ü\", \"u\")\n",
    "        df[col] = df[col].str.lower().astype(str).str.replace(r\"[^a-zA-Z\\d\\_]+\", \"\")\n",
    "        for ch in excluded_punctuation:\n",
    "            df[col] = df[col].str.replace(ch, \"\")\n",
    "\n",
    "def cleaning(df):\n",
    "    '''\n",
    "    Función que convierte las columnas del Data Frame al tipo y forma que se necesita para\n",
    "    los análisis posteriores\n",
    "    \n",
    "    inputs: Data Frame almacenado en el S3 (ingesta.pkl)\n",
    "    outputs: Data Frame con las variables en formato adecuado (df_clean.pkl)\n",
    "        \n",
    "    '''\n",
    "    #df = pickle.load(open(\"ingest.pkl\",\"rb\"))\n",
    "    nrows_prev = df.shape[0]\n",
    "    ncols_prev = df.shape[1]\n",
    "    data_null_prev = df.isnull().sum().sum()\n",
    "    # Variables de texto\n",
    "    df['violations']= df['violations'].astype('object')\n",
    "    df['violations_count'] = df.violations.str.count(r'\\|')+1\n",
    "    df['violations_count'] = df.violations_count.fillna(0)\n",
    "    df['violations_count'] = df['violations_count'].astype('int')\n",
    "    # Variables categóricas\n",
    "    df['dba_name']= df['dba_name'].astype('object')\n",
    "    df['aka_name']= df['aka_name'].astype('object')\n",
    "    df['facility_type']= df['facility_type'].astype('category')\n",
    "    df['risk']= df['risk'].astype('category')\n",
    "    df['address']= df['address'].astype('category')\n",
    "    df['city']= df['city'].astype('category')\n",
    "    df['state']= df['state'].astype('category')\n",
    "    df['inspection_type']= df['inspection_type'].astype('category')\n",
    "    df['results']= df['results'].astype('category')\n",
    "    # Variable label_risk\n",
    "    df['risk'] = df['risk'].replace([\"Risk 1 (High)\"],3)\n",
    "    df['risk'] = df['risk'].replace([\"Risk 2 (Medium)\"],2)\n",
    "    df['risk'] = df['risk'].replace([\"Risk 3 (Low)\"],1)\n",
    "    df['risk'] = df['risk'].replace([\"All\"],0)\n",
    "    df['risk'] = pd.to_numeric(df['risk'], errors='coerce')\n",
    "    df=df.rename(columns = {'risk':'label_risk'})\n",
    "    df['label_risk'] = df['label_risk'].fillna(3)\n",
    "    df['label_risk'] = df['label_risk'].astype('int')\n",
    "    # Variables de fecha\n",
    "    df['inspection_date'] = pd.to_datetime(df['inspection_date'], infer_datetime_format=True)\n",
    "    df['inspection_month']=df['inspection_date'].dt.month\n",
    "    MONTH = 12\n",
    "    df['sin_mnth'] = np.sin(2*np.pi*df.inspection_month/MONTH)\n",
    "    df['cos_mnth'] = np.cos(2*np.pi*df.inspection_month/MONTH)\n",
    "    df['inspection_weekday']=df['inspection_date'].dt.weekday\n",
    "    WEEKDAY = 7\n",
    "    df['sin_wkd'] = np.sin(2*np.pi*df.inspection_weekday/WEEKDAY)\n",
    "    df['cos_wkd'] = np.cos(2*np.pi*df.inspection_weekday/WEEKDAY)\n",
    "    # Etiqueta\n",
    "    df['label_results'] = df['results'].apply(lambda x: int(0) if x == 'Fail' else (int(1) if x in ['Pass','Pass w/Conditions'] else int(2)))\n",
    "    df.rename(columns={'license_':'license'}, inplace=True)\n",
    "    # Imputación de datos\n",
    "    df.drop(['violations'],axis = 1, inplace = True)\n",
    "    df.drop(['results'], axis = 1, inplace = True)\n",
    "    df.drop(df.loc[df['license'].isnull()].index, inplace=True)\n",
    "    df.drop(df.loc[df['zip'].isnull()].index, inplace=True)\n",
    "    df.drop(df.loc[df['label_results'] == 2].index, inplace=True)\n",
    "    df['aka_name'] = df['aka_name'].fillna(df['dba_name'])\n",
    "    df['dba_name']= df['dba_name'].astype(str).str.lower()\n",
    "    df['aka_name']= df['aka_name'].astype(str).str.lower()\n",
    "    df['facility_type']= df['facility_type'].astype(str).str.lower()\n",
    "    df['state']= df['state'].astype(str).str.lower()\n",
    "    df['inspection_type']= df['inspection_type'].astype(str).str.lower()\n",
    "    df = df[~df['state'].isin(['wi', 'ny', 'in'])]\n",
    "    col_text = ['dba_name','aka_name']\n",
    "    standarize_column_strings(df, col_text)\n",
    "    df.rename(columns={'license_':'license'}, inplace=True)\n",
    "    df_dict_dummy = pd.DataFrame(df['aka_name'])\n",
    "    df_dict_dummy['facility_type'] = df['facility_type']\n",
    "    df_dict_dummy.drop(df_dict_dummy.loc[df_dict_dummy['facility_type'].isnull()].index, inplace=True)\n",
    "    group = df_dict_dummy.groupby('aka_name')\n",
    "    df_dict_dummy2 = group.apply(lambda x: x['facility_type'].unique())\n",
    "    df_dict_dummy3 = df_dict_dummy2.to_frame()\n",
    "    df_dict_dummy3.reset_index(level = 'aka_name', inplace = True)\n",
    "    df_dict_dummy3 = df_dict_dummy3.rename(columns = {0:'facility_type'})\n",
    "    df_dict_dummy3['facility_type'] = df_dict_dummy3['facility_type'].apply(lambda x: str(x[0]))\n",
    "    df2 = pd.merge(df,df_dict_dummy3, how = 'left', on = 'aka_name')\n",
    "    df2['facility_type_x'] = df2['facility_type_x'].fillna(df2['facility_type_y'])\n",
    "    df2['facility_type_x'] = df2['facility_type_x'].fillna('restaurant')\n",
    "    df2=df2.rename(columns = {'facility_type_x':'facility_type'})\n",
    "    df2.drop(['inspection_id','dba_name','address','city','state','latitude','longitude','location','facility_type_y','inspection_weekday','inspection_month'],axis = 1, inplace = True)\n",
    "    #pickle.dump(df2,open(\"df_clean.pkl\",\"wb\"))\n",
    "    nrows_after = df2.shape[0]\n",
    "    ncols_after = df2.shape[1]\n",
    "    return df2, nrows_prev, ncols_prev, nrows_after, ncols_after, data_null_prev"
   ]
  },
  {
   "cell_type": "code",
   "execution_count": 5,
   "metadata": {},
   "outputs": [
    {
     "name": "stdout",
     "output_type": "stream",
     "text": [
      "<class 'pandas.core.frame.DataFrame'>\n",
      "RangeIndex: 1000 entries, 0 to 999\n",
      "Data columns (total 17 columns):\n",
      " #   Column           Non-Null Count  Dtype \n",
      "---  ------           --------------  ----- \n",
      " 0   inspection_id    1000 non-null   object\n",
      " 1   dba_name         1000 non-null   object\n",
      " 2   aka_name         994 non-null    object\n",
      " 3   license_         1000 non-null   object\n",
      " 4   facility_type    985 non-null    object\n",
      " 5   risk             1000 non-null   object\n",
      " 6   address          1000 non-null   object\n",
      " 7   city             997 non-null    object\n",
      " 8   state            1000 non-null   object\n",
      " 9   zip              997 non-null    object\n",
      " 10  inspection_date  1000 non-null   object\n",
      " 11  inspection_type  1000 non-null   object\n",
      " 12  results          1000 non-null   object\n",
      " 13  latitude         992 non-null    object\n",
      " 14  longitude        992 non-null    object\n",
      " 15  location         992 non-null    object\n",
      " 16  violations       721 non-null    object\n",
      "dtypes: object(17)\n",
      "memory usage: 132.9+ KB\n"
     ]
    }
   ],
   "source": [
    "df = pd.DataFrame(pickle.load(open(\"ingest.pkl\",\"rb\")))\n",
    "df.info()"
   ]
  },
  {
   "cell_type": "code",
   "execution_count": 6,
   "metadata": {},
   "outputs": [],
   "source": [
    "df2, nrows_prev, ncols_prev, nrows_after, ncols_after, data_null_prev = cleaning(df)"
   ]
  },
  {
   "cell_type": "code",
   "execution_count": 7,
   "metadata": {},
   "outputs": [
    {
     "name": "stdout",
     "output_type": "stream",
     "text": [
      "<class 'pandas.core.frame.DataFrame'>\n",
      "Int64Index: 610 entries, 0 to 609\n",
      "Data columns (total 13 columns):\n",
      " #   Column            Non-Null Count  Dtype         \n",
      "---  ------            --------------  -----         \n",
      " 0   aka_name          610 non-null    object        \n",
      " 1   license           610 non-null    object        \n",
      " 2   facility_type     610 non-null    object        \n",
      " 3   label_risk        610 non-null    int64         \n",
      " 4   zip               610 non-null    object        \n",
      " 5   inspection_date   610 non-null    datetime64[ns]\n",
      " 6   inspection_type   610 non-null    object        \n",
      " 7   violations_count  610 non-null    int64         \n",
      " 8   sin_mnth          610 non-null    float64       \n",
      " 9   cos_mnth          610 non-null    float64       \n",
      " 10  sin_wkd           610 non-null    float64       \n",
      " 11  cos_wkd           610 non-null    float64       \n",
      " 12  label_results     610 non-null    int64         \n",
      "dtypes: datetime64[ns](1), float64(4), int64(3), object(5)\n",
      "memory usage: 66.7+ KB\n"
     ]
    }
   ],
   "source": [
    "df2.info()"
   ]
  },
  {
   "cell_type": "code",
   "execution_count": 9,
   "metadata": {},
   "outputs": [
    {
     "data": {
      "text/html": [
       "<div>\n",
       "<style scoped>\n",
       "    .dataframe tbody tr th:only-of-type {\n",
       "        vertical-align: middle;\n",
       "    }\n",
       "\n",
       "    .dataframe tbody tr th {\n",
       "        vertical-align: top;\n",
       "    }\n",
       "\n",
       "    .dataframe thead th {\n",
       "        text-align: right;\n",
       "    }\n",
       "</style>\n",
       "<table border=\"1\" class=\"dataframe\">\n",
       "  <thead>\n",
       "    <tr style=\"text-align: right;\">\n",
       "      <th></th>\n",
       "      <th>aka_name</th>\n",
       "      <th>license</th>\n",
       "      <th>facility_type</th>\n",
       "      <th>label_risk</th>\n",
       "      <th>zip</th>\n",
       "      <th>inspection_date</th>\n",
       "      <th>inspection_type</th>\n",
       "      <th>violations_count</th>\n",
       "      <th>sin_mnth</th>\n",
       "      <th>cos_mnth</th>\n",
       "      <th>sin_wkd</th>\n",
       "      <th>cos_wkd</th>\n",
       "      <th>label_results</th>\n",
       "    </tr>\n",
       "  </thead>\n",
       "  <tbody>\n",
       "    <tr>\n",
       "      <th>0</th>\n",
       "      <td>slice_factory</td>\n",
       "      <td>2583193</td>\n",
       "      <td>restaurant</td>\n",
       "      <td>3</td>\n",
       "      <td>60632</td>\n",
       "      <td>2021-03-03</td>\n",
       "      <td>canvass re-inspection</td>\n",
       "      <td>0</td>\n",
       "      <td>1.0</td>\n",
       "      <td>6.123234e-17</td>\n",
       "      <td>0.974928</td>\n",
       "      <td>-0.222521</td>\n",
       "      <td>1</td>\n",
       "    </tr>\n",
       "    <tr>\n",
       "      <th>1</th>\n",
       "      <td>five_guys</td>\n",
       "      <td>2617086</td>\n",
       "      <td>restaurant</td>\n",
       "      <td>2</td>\n",
       "      <td>60601</td>\n",
       "      <td>2021-03-03</td>\n",
       "      <td>canvass</td>\n",
       "      <td>2</td>\n",
       "      <td>1.0</td>\n",
       "      <td>6.123234e-17</td>\n",
       "      <td>0.974928</td>\n",
       "      <td>-0.222521</td>\n",
       "      <td>1</td>\n",
       "    </tr>\n",
       "    <tr>\n",
       "      <th>2</th>\n",
       "      <td>mangis</td>\n",
       "      <td>20717</td>\n",
       "      <td>restaurant</td>\n",
       "      <td>3</td>\n",
       "      <td>60613</td>\n",
       "      <td>2021-03-03</td>\n",
       "      <td>canvass</td>\n",
       "      <td>2</td>\n",
       "      <td>1.0</td>\n",
       "      <td>6.123234e-17</td>\n",
       "      <td>0.974928</td>\n",
       "      <td>-0.222521</td>\n",
       "      <td>1</td>\n",
       "    </tr>\n",
       "    <tr>\n",
       "      <th>3</th>\n",
       "      <td>senor_pan_cafe</td>\n",
       "      <td>2658639</td>\n",
       "      <td>restaurant</td>\n",
       "      <td>3</td>\n",
       "      <td>60639</td>\n",
       "      <td>2021-03-03</td>\n",
       "      <td>canvass re-inspection</td>\n",
       "      <td>9</td>\n",
       "      <td>1.0</td>\n",
       "      <td>6.123234e-17</td>\n",
       "      <td>0.974928</td>\n",
       "      <td>-0.222521</td>\n",
       "      <td>1</td>\n",
       "    </tr>\n",
       "    <tr>\n",
       "      <th>4</th>\n",
       "      <td>yolk</td>\n",
       "      <td>2516510</td>\n",
       "      <td>restaurant</td>\n",
       "      <td>3</td>\n",
       "      <td>60654</td>\n",
       "      <td>2021-03-03</td>\n",
       "      <td>canvass</td>\n",
       "      <td>5</td>\n",
       "      <td>1.0</td>\n",
       "      <td>6.123234e-17</td>\n",
       "      <td>0.974928</td>\n",
       "      <td>-0.222521</td>\n",
       "      <td>0</td>\n",
       "    </tr>\n",
       "    <tr>\n",
       "      <th>5</th>\n",
       "      <td>jojos_milk_bar</td>\n",
       "      <td>2621841</td>\n",
       "      <td>restaurant</td>\n",
       "      <td>3</td>\n",
       "      <td>60654</td>\n",
       "      <td>2021-03-03</td>\n",
       "      <td>complaint</td>\n",
       "      <td>8</td>\n",
       "      <td>1.0</td>\n",
       "      <td>6.123234e-17</td>\n",
       "      <td>0.974928</td>\n",
       "      <td>-0.222521</td>\n",
       "      <td>1</td>\n",
       "    </tr>\n",
       "    <tr>\n",
       "      <th>6</th>\n",
       "      <td>the_great_american_bagelt1_b_14</td>\n",
       "      <td>1879166</td>\n",
       "      <td>restaurant</td>\n",
       "      <td>3</td>\n",
       "      <td>60666</td>\n",
       "      <td>2021-03-03</td>\n",
       "      <td>canvass</td>\n",
       "      <td>2</td>\n",
       "      <td>1.0</td>\n",
       "      <td>6.123234e-17</td>\n",
       "      <td>0.974928</td>\n",
       "      <td>-0.222521</td>\n",
       "      <td>1</td>\n",
       "    </tr>\n",
       "    <tr>\n",
       "      <th>7</th>\n",
       "      <td>morgan_park_academy</td>\n",
       "      <td>2142649</td>\n",
       "      <td>school</td>\n",
       "      <td>3</td>\n",
       "      <td>60643</td>\n",
       "      <td>2021-03-03</td>\n",
       "      <td>canvass re-inspection</td>\n",
       "      <td>6</td>\n",
       "      <td>1.0</td>\n",
       "      <td>6.123234e-17</td>\n",
       "      <td>0.974928</td>\n",
       "      <td>-0.222521</td>\n",
       "      <td>0</td>\n",
       "    </tr>\n",
       "    <tr>\n",
       "      <th>8</th>\n",
       "      <td>papa_johns_pizza</td>\n",
       "      <td>2069775</td>\n",
       "      <td>restaurant</td>\n",
       "      <td>2</td>\n",
       "      <td>60607</td>\n",
       "      <td>2021-03-03</td>\n",
       "      <td>canvass</td>\n",
       "      <td>4</td>\n",
       "      <td>1.0</td>\n",
       "      <td>6.123234e-17</td>\n",
       "      <td>0.974928</td>\n",
       "      <td>-0.222521</td>\n",
       "      <td>0</td>\n",
       "    </tr>\n",
       "    <tr>\n",
       "      <th>9</th>\n",
       "      <td>the_great_american_bagelt3_k2</td>\n",
       "      <td>1879167</td>\n",
       "      <td>restaurant</td>\n",
       "      <td>3</td>\n",
       "      <td>60666</td>\n",
       "      <td>2021-03-03</td>\n",
       "      <td>canvass</td>\n",
       "      <td>3</td>\n",
       "      <td>1.0</td>\n",
       "      <td>6.123234e-17</td>\n",
       "      <td>0.974928</td>\n",
       "      <td>-0.222521</td>\n",
       "      <td>1</td>\n",
       "    </tr>\n",
       "  </tbody>\n",
       "</table>\n",
       "</div>"
      ],
      "text/plain": [
       "                          aka_name  license facility_type  label_risk    zip  \\\n",
       "0                    slice_factory  2583193    restaurant           3  60632   \n",
       "1                        five_guys  2617086    restaurant           2  60601   \n",
       "2                           mangis    20717    restaurant           3  60613   \n",
       "3                   senor_pan_cafe  2658639    restaurant           3  60639   \n",
       "4                             yolk  2516510    restaurant           3  60654   \n",
       "5                   jojos_milk_bar  2621841    restaurant           3  60654   \n",
       "6  the_great_american_bagelt1_b_14  1879166    restaurant           3  60666   \n",
       "7              morgan_park_academy  2142649        school           3  60643   \n",
       "8                 papa_johns_pizza  2069775    restaurant           2  60607   \n",
       "9    the_great_american_bagelt3_k2  1879167    restaurant           3  60666   \n",
       "\n",
       "  inspection_date        inspection_type  violations_count  sin_mnth  \\\n",
       "0      2021-03-03  canvass re-inspection                 0       1.0   \n",
       "1      2021-03-03                canvass                 2       1.0   \n",
       "2      2021-03-03                canvass                 2       1.0   \n",
       "3      2021-03-03  canvass re-inspection                 9       1.0   \n",
       "4      2021-03-03                canvass                 5       1.0   \n",
       "5      2021-03-03              complaint                 8       1.0   \n",
       "6      2021-03-03                canvass                 2       1.0   \n",
       "7      2021-03-03  canvass re-inspection                 6       1.0   \n",
       "8      2021-03-03                canvass                 4       1.0   \n",
       "9      2021-03-03                canvass                 3       1.0   \n",
       "\n",
       "       cos_mnth   sin_wkd   cos_wkd  label_results  \n",
       "0  6.123234e-17  0.974928 -0.222521              1  \n",
       "1  6.123234e-17  0.974928 -0.222521              1  \n",
       "2  6.123234e-17  0.974928 -0.222521              1  \n",
       "3  6.123234e-17  0.974928 -0.222521              1  \n",
       "4  6.123234e-17  0.974928 -0.222521              0  \n",
       "5  6.123234e-17  0.974928 -0.222521              1  \n",
       "6  6.123234e-17  0.974928 -0.222521              1  \n",
       "7  6.123234e-17  0.974928 -0.222521              0  \n",
       "8  6.123234e-17  0.974928 -0.222521              0  \n",
       "9  6.123234e-17  0.974928 -0.222521              1  "
      ]
     },
     "execution_count": 9,
     "metadata": {},
     "output_type": "execute_result"
    }
   ],
   "source": [
    "df2.head(10)"
   ]
  },
  {
   "cell_type": "code",
   "execution_count": 6,
   "metadata": {},
   "outputs": [
    {
     "ename": "NameError",
     "evalue": "name 'col_text' is not defined",
     "output_type": "error",
     "traceback": [
      "\u001b[0;31m---------------------------------------------------------------------------\u001b[0m",
      "\u001b[0;31mNameError\u001b[0m                                 Traceback (most recent call last)",
      "\u001b[0;32m<ipython-input-6-97b08c937050>\u001b[0m in \u001b[0;36m<module>\u001b[0;34m\u001b[0m\n\u001b[0;32m----> 1\u001b[0;31m \u001b[0mstandarize_column_strings\u001b[0m\u001b[0;34m(\u001b[0m\u001b[0mdf\u001b[0m\u001b[0;34m,\u001b[0m \u001b[0mcol_text\u001b[0m\u001b[0;34m)\u001b[0m\u001b[0;34m\u001b[0m\u001b[0;34m\u001b[0m\u001b[0m\n\u001b[0m",
      "\u001b[0;31mNameError\u001b[0m: name 'col_text' is not defined"
     ]
    }
   ],
   "source": [
    "col_text = ['dba_name','aka_name']\n",
    "standarize_column_strings(df, col_text)\n"
   ]
  },
  {
   "cell_type": "code",
   "execution_count": 13,
   "metadata": {},
   "outputs": [
    {
     "name": "stdout",
     "output_type": "stream",
     "text": [
      "<class 'pandas.core.frame.DataFrame'>\n",
      "Int64Index: 610 entries, 0 to 609\n",
      "Data columns (total 13 columns):\n",
      " #   Column            Non-Null Count  Dtype         \n",
      "---  ------            --------------  -----         \n",
      " 0   aka_name          610 non-null    object        \n",
      " 1   license_          610 non-null    object        \n",
      " 2   facility_type     610 non-null    object        \n",
      " 3   label_risk        610 non-null    int64         \n",
      " 4   zip               610 non-null    object        \n",
      " 5   inspection_date   610 non-null    datetime64[ns]\n",
      " 6   inspection_type   610 non-null    object        \n",
      " 7   violations_count  610 non-null    int64         \n",
      " 8   sin_mnth          610 non-null    float64       \n",
      " 9   cos_mnth          610 non-null    float64       \n",
      " 10  sin_wkd           610 non-null    float64       \n",
      " 11  cos_wkd           610 non-null    float64       \n",
      " 12  label_results     610 non-null    int64         \n",
      "dtypes: datetime64[ns](1), float64(4), int64(3), object(5)\n",
      "memory usage: 66.7+ KB\n"
     ]
    }
   ],
   "source": [
    "df2.info()"
   ]
  },
  {
   "cell_type": "code",
   "execution_count": 3,
   "metadata": {},
   "outputs": [],
   "source": [
    "df2, nrows_prev, ncols_prev, nrows_after, ncols_after, data_null_prev = cleaning(df)"
   ]
  },
  {
   "cell_type": "code",
   "execution_count": 16,
   "metadata": {},
   "outputs": [],
   "source": [
    "df['label_results'] = df['results'].apply(lambda x: int(0) if x == 'Fail' else (int(1) if x in ['Pass','Pass w/Conditions'] else int(2)))"
   ]
  },
  {
   "cell_type": "code",
   "execution_count": 17,
   "metadata": {},
   "outputs": [
    {
     "name": "stdout",
     "output_type": "stream",
     "text": [
      "<class 'pandas.core.frame.DataFrame'>\n",
      "RangeIndex: 1000 entries, 0 to 999\n",
      "Data columns (total 19 columns):\n",
      " #   Column            Non-Null Count  Dtype   \n",
      "---  ------            --------------  -----   \n",
      " 0   inspection_id     1000 non-null   object  \n",
      " 1   dba_name          1000 non-null   object  \n",
      " 2   aka_name          994 non-null    object  \n",
      " 3   license_          1000 non-null   object  \n",
      " 4   facility_type     985 non-null    category\n",
      " 5   risk              1000 non-null   int64   \n",
      " 6   address           1000 non-null   category\n",
      " 7   city              997 non-null    category\n",
      " 8   state             1000 non-null   category\n",
      " 9   zip               997 non-null    object  \n",
      " 10  inspection_date   1000 non-null   object  \n",
      " 11  inspection_type   1000 non-null   category\n",
      " 12  results           1000 non-null   category\n",
      " 13  latitude          992 non-null    object  \n",
      " 14  longitude         992 non-null    object  \n",
      " 15  location          992 non-null    object  \n",
      " 16  violations        721 non-null    object  \n",
      " 17  violations_count  1000 non-null   int64   \n",
      " 18  label_results     1000 non-null   int64   \n",
      "dtypes: category(6), int64(3), object(10)\n",
      "memory usage: 136.2+ KB\n"
     ]
    }
   ],
   "source": [
    "df.info()"
   ]
  },
  {
   "cell_type": "code",
   "execution_count": 18,
   "metadata": {},
   "outputs": [
    {
     "data": {
      "text/plain": [
       "0      1\n",
       "1      2\n",
       "2      1\n",
       "3      2\n",
       "4      1\n",
       "      ..\n",
       "995    1\n",
       "996    1\n",
       "997    0\n",
       "998    1\n",
       "999    2\n",
       "Name: label_results, Length: 1000, dtype: int64"
      ]
     },
     "execution_count": 18,
     "metadata": {},
     "output_type": "execute_result"
    }
   ],
   "source": [
    "df['label_results']"
   ]
  },
  {
   "cell_type": "code",
   "execution_count": 11,
   "metadata": {},
   "outputs": [
    {
     "data": {
      "text/plain": [
       "Pass                  427\n",
       "Pass w/ Conditions    217\n",
       "Fail                  185\n",
       "No Entry               73\n",
       "Out of Business        70\n",
       "Not Ready              28\n",
       "Name: results, dtype: int64"
      ]
     },
     "execution_count": 11,
     "metadata": {},
     "output_type": "execute_result"
    }
   ],
   "source": [
    "df['results'].value_counts()"
   ]
  },
  {
   "cell_type": "code",
   "execution_count": 12,
   "metadata": {},
   "outputs": [
    {
     "data": {
      "text/plain": [
       "0"
      ]
     },
     "execution_count": 12,
     "metadata": {},
     "output_type": "execute_result"
    }
   ],
   "source": [
    "df['license_'].isnull().sum()"
   ]
  },
  {
   "cell_type": "code",
   "execution_count": 13,
   "metadata": {},
   "outputs": [
    {
     "name": "stdout",
     "output_type": "stream",
     "text": [
      "<class 'pandas.core.frame.DataFrame'>\n",
      "RangeIndex: 1000 entries, 0 to 999\n",
      "Data columns (total 18 columns):\n",
      " #   Column            Non-Null Count  Dtype   \n",
      "---  ------            --------------  -----   \n",
      " 0   inspection_id     1000 non-null   object  \n",
      " 1   dba_name          1000 non-null   object  \n",
      " 2   aka_name          994 non-null    object  \n",
      " 3   license_          1000 non-null   object  \n",
      " 4   facility_type     985 non-null    category\n",
      " 5   risk              1000 non-null   int64   \n",
      " 6   address           1000 non-null   category\n",
      " 7   city              997 non-null    category\n",
      " 8   state             1000 non-null   category\n",
      " 9   zip               997 non-null    object  \n",
      " 10  inspection_date   1000 non-null   object  \n",
      " 11  inspection_type   1000 non-null   category\n",
      " 12  results           1000 non-null   category\n",
      " 13  latitude          992 non-null    object  \n",
      " 14  longitude         992 non-null    object  \n",
      " 15  location          992 non-null    object  \n",
      " 16  violations        721 non-null    object  \n",
      " 17  violations_count  1000 non-null   int64   \n",
      "dtypes: category(6), int64(2), object(10)\n",
      "memory usage: 128.4+ KB\n"
     ]
    }
   ],
   "source": [
    "df.info()"
   ]
  },
  {
   "cell_type": "code",
   "execution_count": 11,
   "metadata": {},
   "outputs": [],
   "source": [
    "pickle.dump(df2,open(\"clean.pkl\",\"wb\"))"
   ]
  },
  {
   "cell_type": "code",
   "execution_count": null,
   "metadata": {},
   "outputs": [],
   "source": []
  }
 ],
 "metadata": {
  "kernelspec": {
   "display_name": "itam_intro_to_ds",
   "language": "python",
   "name": "itam_intro_to_ds"
  },
  "language_info": {
   "codemirror_mode": {
    "name": "ipython",
    "version": 3
   },
   "file_extension": ".py",
   "mimetype": "text/x-python",
   "name": "python",
   "nbconvert_exporter": "python",
   "pygments_lexer": "ipython3",
   "version": "3.7.4"
  }
 },
 "nbformat": 4,
 "nbformat_minor": 4
}
