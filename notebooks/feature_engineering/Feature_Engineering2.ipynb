{
 "cells": [
  {
   "cell_type": "markdown",
   "metadata": {},
   "source": [
    "# Proyecto - *Data Product Architecture* (Primavera 2021)\n",
    "## *Chicago Food Inspections*\n",
    "## Maestría en Ciencia de Datos, ITAM\n",
    "### M. Sc. Liliana Millán Núñez\n",
    "### *Checkpoint* 4: *Feature Engineering*\n",
    "#### Equipo 5\n",
    "---"
   ]
  },
  {
   "cell_type": "code",
   "execution_count": 1,
   "metadata": {},
   "outputs": [
    {
     "data": {
      "image/png": "[encoded data removed]",
      "text/plain": [
       "<IPython.core.display.Image object>"
      ]
     },
     "execution_count": 1,
     "metadata": {},
     "output_type": "execute_result"
    }
   ],
   "source": [
    "from IPython.display import Image\n",
    "Image(\"itam_logo.png\")"
   ]
  },
  {
   "cell_type": "markdown",
   "metadata": {},
   "source": [
    "---\n",
    "\n",
    "Integrante | Alumno                         | Clave única\n",
    "---------- | ------------------------------ | -----------\n",
    "1          | Carlos Román López Sierra      | 197911\n",
    "2          | José Luis Zárate Cortés        | 183347\n",
    "3          | Octavio Fuentes Ortiz          | 150792\n",
    "4          | Patricia Urriza Arellano       | 152026\n",
    "5          | Uriel Abraham Rangel Díaz      | 193921\n",
    "\n",
    "Jueves 8 de abril de 2021\n",
    "\n",
    "---\n",
    "\n",
    "**¿Qué pregunta analítica buscamos contestar con nuestro modelo?** \n",
    "\n",
    "Buscamos contestar si el establecimiento pasará o no pasará la inspección.\n",
    "\n",
    "---\n",
    "\n",
    "Los paquetes que utilizamos son:\n",
    "- [***numpy***](https://numpy.org/)\n",
    "- [***pandas***](https://pandas.pydata.org/)\n",
    "- [***geopandas***](https://geopandas.org/)\n",
    "- [***shapely***](https://pypi.org/project/Shapely/)\n",
    "- [***datetime***](https://docs.python.org/3/library/datetime.html)\n",
    "- [***csv***](https://docs.python.org/3/library/csv.html)\n",
    "- [***plotly express***](https://pypi.org/project/plotly-express/)\n",
    "- [***matplotlib***](https://matplotlib.org/)\n",
    "- [***seaborn***](https://seaborn.pydata.org/)\n",
    "\n",
    "---"
   ]
  },
  {
   "cell_type": "code",
   "execution_count": 1,
   "metadata": {},
   "outputs": [],
   "source": [
    "import numpy as np\n",
    "import pandas as pd\n",
    "from pandas import DataFrame\n",
    "from datetime import datetime\n",
    "from datetime import timedelta\n",
    "import csv\n",
    "import matplotlib\n",
    "import matplotlib.pyplot as plt\n",
    "import seaborn as sns\n",
    "from IPython.display import display, HTML\n",
    "from matplotlib.pyplot import figure\n",
    "from sodapy import Socrata\n",
    "import seaborn as sns \n",
    "\n",
    "from sklearn.preprocessing import StandardScaler, OneHotEncoder, KBinsDiscretizer\n",
    "from sklearn.impute import SimpleImputer\n",
    "from sklearn.compose import ColumnTransformer\n",
    "\n",
    "from sklearn.preprocessing import MinMaxScaler, QuantileTransformer\n",
    "from sklearn.feature_selection import VarianceThreshold\n",
    "\n",
    "from sklearn.model_selection import GridSearchCV\n",
    "from sklearn.model_selection import train_test_split\n",
    "from sklearn.ensemble import RandomForestClassifier\n",
    "\n",
    "from sklearn.tree import DecisionTreeClassifier\n",
    "\n",
    "import pickle"
   ]
  },
  {
   "cell_type": "markdown",
   "metadata": {},
   "source": [
    "Cargamos los datos desde la Api de Socrata"
   ]
  },
  {
   "cell_type": "code",
   "execution_count": 2,
   "metadata": {},
   "outputs": [
    {
     "name": "stderr",
     "output_type": "stream",
     "text": [
      "WARNING:root:Requests made without an app_token will be subject to strict throttling limits.\n"
     ]
    }
   ],
   "source": [
    "client = Socrata(\"data.cityofchicago.org\", None)\n",
    "results = client.get(\"4ijn-s7e5\", limit=400000)\n",
    "df = pd.DataFrame.from_records(results)\n",
    "col_names = df.columns.to_list()\n",
    "col_name = []\n",
    "for i in range(len(col_names)):\n",
    "    col_name.append(col_names[i].replace(\" \", \"_\").lower())\n",
    "df.columns =col_name\n",
    "# Eliminamos el '_' que aparece al final en la columna 'license_'\n",
    "df.rename(columns={'license_':'license'}, inplace=True)\n",
    "pickle.dump(df,open(\"ingesta.pkl\",\"wb\"))"
   ]
  },
  {
   "cell_type": "code",
   "execution_count": 2,
   "metadata": {},
   "outputs": [],
   "source": [
    "df = pickle.load(open(\"ingesta.pkl\",\"rb\"))"
   ]
  },
  {
   "cell_type": "markdown",
   "metadata": {},
   "source": [
    "---\n",
    "\n",
    "## Valores faltantes\n",
    "\n",
    "Revisamos los *missing values* de nuestra base de datos:"
   ]
  },
  {
   "cell_type": "code",
   "execution_count": 49,
   "metadata": {
    "scrolled": false
   },
   "outputs": [
    {
     "data": {
      "text/html": [
       "<div>\n",
       "<style scoped>\n",
       "    .dataframe tbody tr th:only-of-type {\n",
       "        vertical-align: middle;\n",
       "    }\n",
       "\n",
       "    .dataframe tbody tr th {\n",
       "        vertical-align: top;\n",
       "    }\n",
       "\n",
       "    .dataframe thead th {\n",
       "        text-align: right;\n",
       "    }\n",
       "</style>\n",
       "<table border=\"1\" class=\"dataframe\">\n",
       "  <thead>\n",
       "    <tr style=\"text-align: right;\">\n",
       "      <th></th>\n",
       "      <th>Proporción de valores faltantes</th>\n",
       "    </tr>\n",
       "  </thead>\n",
       "  <tbody>\n",
       "    <tr>\n",
       "      <th>inspection_id</th>\n",
       "      <td>0.00</td>\n",
       "    </tr>\n",
       "    <tr>\n",
       "      <th>dba_name</th>\n",
       "      <td>0.00</td>\n",
       "    </tr>\n",
       "    <tr>\n",
       "      <th>aka_name</th>\n",
       "      <td>1.13</td>\n",
       "    </tr>\n",
       "    <tr>\n",
       "      <th>license</th>\n",
       "      <td>0.01</td>\n",
       "    </tr>\n",
       "    <tr>\n",
       "      <th>facility_type</th>\n",
       "      <td>2.25</td>\n",
       "    </tr>\n",
       "    <tr>\n",
       "      <th>risk</th>\n",
       "      <td>0.03</td>\n",
       "    </tr>\n",
       "    <tr>\n",
       "      <th>address</th>\n",
       "      <td>0.00</td>\n",
       "    </tr>\n",
       "    <tr>\n",
       "      <th>city</th>\n",
       "      <td>0.08</td>\n",
       "    </tr>\n",
       "    <tr>\n",
       "      <th>state</th>\n",
       "      <td>0.02</td>\n",
       "    </tr>\n",
       "    <tr>\n",
       "      <th>zip</th>\n",
       "      <td>0.02</td>\n",
       "    </tr>\n",
       "    <tr>\n",
       "      <th>inspection_date</th>\n",
       "      <td>0.00</td>\n",
       "    </tr>\n",
       "    <tr>\n",
       "      <th>inspection_type</th>\n",
       "      <td>0.00</td>\n",
       "    </tr>\n",
       "    <tr>\n",
       "      <th>results</th>\n",
       "      <td>0.00</td>\n",
       "    </tr>\n",
       "    <tr>\n",
       "      <th>violations</th>\n",
       "      <td>26.73</td>\n",
       "    </tr>\n",
       "    <tr>\n",
       "      <th>latitude</th>\n",
       "      <td>0.34</td>\n",
       "    </tr>\n",
       "    <tr>\n",
       "      <th>longitude</th>\n",
       "      <td>0.34</td>\n",
       "    </tr>\n",
       "    <tr>\n",
       "      <th>location</th>\n",
       "      <td>0.34</td>\n",
       "    </tr>\n",
       "  </tbody>\n",
       "</table>\n",
       "</div>"
      ],
      "text/plain": [
       "                 Proporción de valores faltantes\n",
       "inspection_id                               0.00\n",
       "dba_name                                    0.00\n",
       "aka_name                                    1.13\n",
       "license                                     0.01\n",
       "facility_type                               2.25\n",
       "risk                                        0.03\n",
       "address                                     0.00\n",
       "city                                        0.08\n",
       "state                                       0.02\n",
       "zip                                         0.02\n",
       "inspection_date                             0.00\n",
       "inspection_type                             0.00\n",
       "results                                     0.00\n",
       "violations                                 26.73\n",
       "latitude                                    0.34\n",
       "longitude                                   0.34\n",
       "location                                    0.34"
      ]
     },
     "execution_count": 49,
     "metadata": {},
     "output_type": "execute_result"
    }
   ],
   "source": [
    "missings_prop = df.apply(lambda x: round(x.isnull().sum()/df.shape[0]*100, 2))\n",
    "missings_numeric_df = pd.DataFrame({'Proporción de valores faltantes': missings_prop})\n",
    "missings_numeric_df"
   ]
  },
  {
   "cell_type": "markdown",
   "metadata": {},
   "source": [
    "- Observamos que en la variable ***violations*** tenemos  casi un 27% de registros faltantes. Esto hace sentido pues es un campo abierto donde se redacta la o las violaciones en las que incurrió el negocio, sin embargo, cuando aparece el campo como vacío, esto podría ser porque el negocio pasó la inspección y por ende no incurrió en violación alguna.\n",
    "\n",
    "- También observamos que falta el mismo porcentaje tanto en ***location***, como en ***latitude*** y ***longitude***. Por lo tanto, consideramos que podremos descartar más adelante la variable *location*, pues contiene información repetida.\n",
    "\n",
    "- El porcentaje de faltantes en ***license*** es muy bajo. Consideramos que podemos simplemente eliminar estos valores."
   ]
  },
  {
   "cell_type": "markdown",
   "metadata": {},
   "source": [
    "---\n",
    "\n",
    "## *Feature Selection*\n",
    "\n",
    "**¿Qué variables debemos eliminar porque no las podremos tener en el momento de la predicción?**\n",
    "\n",
    "Las variables que decidimos quitar son las siguientes, pues no se tendrán para el modelo:\n",
    "\n",
    "- ***inspection_id***\n",
    "\n",
    "- ***dba_name***\n",
    "\n",
    "- ***adress***\n",
    "\n",
    "- ***city***\n",
    "\n",
    "- ***state***\n",
    "\n",
    "- ***location***\n",
    "\n",
    "- ***latitude***\n",
    "\n",
    "- ***longitude***\n",
    "\n",
    "**¿Qué variables debemos conservar porque sí las podremos tener en el momento de la predicción?**\n",
    "\n",
    "- ***aka_name***\n",
    "\n",
    "- ***license***\n",
    "\n",
    "- ***facility_type***\n",
    "\n",
    "- ***risk***\n",
    "\n",
    "- ***zip***\n",
    "\n",
    "- ***inspection_date***\n",
    "\n",
    "- ***inspection_type***\n",
    "\n",
    "- ***results***\n",
    "\n",
    "- ***violations***\n",
    "\n",
    "Las variables con las que no trabajaremos aún no las quitamos, pues algunas nos servirán para imputar valores faltantes. Por ejemplo, cuando ***'aka_name'*** no contenga información, imputaremos con el valor proporcionado con ***'dba_name'***. También porque hay variables como ***'violations'*** que se convertirán en ***'violations_count'***. Todo esto lo iremos explicando más adelante en el ***Feature Transformation***."
   ]
  },
  {
   "cell_type": "markdown",
   "metadata": {},
   "source": [
    "---\n",
    "\n",
    "## *Feature Transformation*\n",
    "\n",
    "¿Qué variables debemos transformar para facilitar el trabajo del modelo de clasificación?\n",
    "\n",
    "### Transformación de variables\n",
    "\n"
   ]
  },
  {
   "cell_type": "markdown",
   "metadata": {},
   "source": [
    "#### Variables de texto\n",
    "\n",
    "Creamos la variable ***'violations_count'***, que nos permite saber en cuántas violaciones incurrió el establecimiento durante la inspección:"
   ]
  },
  {
   "cell_type": "code",
   "execution_count": 3,
   "metadata": {},
   "outputs": [],
   "source": [
    "df['violations']= df['violations'].astype('object')"
   ]
  },
  {
   "cell_type": "code",
   "execution_count": 4,
   "metadata": {},
   "outputs": [],
   "source": [
    "df['violations_count'] = df.violations.str.count(r'\\|')+1"
   ]
  },
  {
   "cell_type": "code",
   "execution_count": 5,
   "metadata": {},
   "outputs": [],
   "source": [
    "df['violations_count'] = df.violations_count.fillna(0)\n",
    "df['violations_count'] = df['violations_count'].astype('int')"
   ]
  },
  {
   "cell_type": "code",
   "execution_count": 6,
   "metadata": {},
   "outputs": [],
   "source": [
    "df.drop(['violations'],axis = 1, inplace = True)"
   ]
  },
  {
   "cell_type": "markdown",
   "metadata": {},
   "source": [
    "#### Variables categóricas"
   ]
  },
  {
   "cell_type": "code",
   "execution_count": 7,
   "metadata": {},
   "outputs": [],
   "source": [
    "df['dba_name']= df['dba_name'].astype('category')\n",
    "df['aka_name']= df['aka_name'].astype('category')\n",
    "df['facility_type']= df['facility_type'].astype('category')\n",
    "df['risk']= df['risk'].astype('category')\n",
    "df['address']= df['address'].astype('category')\n",
    "df['city']= df['city'].astype('category')\n",
    "df['state']= df['state'].astype('category')\n",
    "df['inspection_type']= df['inspection_type'].astype('category')\n",
    "df['results']= df['results'].astype('category')"
   ]
  },
  {
   "cell_type": "markdown",
   "metadata": {},
   "source": [
    "En la variable ***results***, tenemos 7 tipos de resultados distintos:\n",
    "\n",
    "- ***Business Not Located***\n",
    "- ***No Entry***\n",
    "- ***Not Ready***\n",
    "- ***Out of Business***\n",
    "- ***Fail***\n",
    "- ***Pass***\n",
    "- ***Pass w/ Conditions***\n",
    "\n",
    "Creamos una variable llamada ***'label_results'***, donde la etiqueta 0 implica que la inspección no pasó, la etiqueta 1 implica que la inspección sí pasó y por último, la etiqueta 2 en otro caso:"
   ]
  },
  {
   "cell_type": "code",
   "execution_count": null,
   "metadata": {},
   "outputs": [],
   "source": [
    "converter = lambda x : x*2 if x < 10 else (x*3 if x < 20 else x)"
   ]
  },
  {
   "cell_type": "code",
   "execution_count": 18,
   "metadata": {},
   "outputs": [],
   "source": [
    "df['label_results'] = df['results'].apply(lambda x: 0 if x == 'Fail' else (1 if x in ['Pass','Pass w/ Conditions'] else 2))"
   ]
  },
  {
   "cell_type": "code",
   "execution_count": 19,
   "metadata": {},
   "outputs": [
    {
     "data": {
      "text/html": [
       "<div>\n",
       "<style scoped>\n",
       "    .dataframe tbody tr th:only-of-type {\n",
       "        vertical-align: middle;\n",
       "    }\n",
       "\n",
       "    .dataframe tbody tr th {\n",
       "        vertical-align: top;\n",
       "    }\n",
       "\n",
       "    .dataframe thead th {\n",
       "        text-align: right;\n",
       "    }\n",
       "</style>\n",
       "<table border=\"1\" class=\"dataframe\">\n",
       "  <thead>\n",
       "    <tr style=\"text-align: right;\">\n",
       "      <th></th>\n",
       "      <th>inspection_id</th>\n",
       "      <th>dba_name</th>\n",
       "      <th>aka_name</th>\n",
       "      <th>license</th>\n",
       "      <th>facility_type</th>\n",
       "      <th>risk</th>\n",
       "      <th>address</th>\n",
       "      <th>city</th>\n",
       "      <th>state</th>\n",
       "      <th>zip</th>\n",
       "      <th>inspection_date</th>\n",
       "      <th>inspection_type</th>\n",
       "      <th>results</th>\n",
       "      <th>latitude</th>\n",
       "      <th>longitude</th>\n",
       "      <th>location</th>\n",
       "      <th>violations_count</th>\n",
       "      <th>label_results</th>\n",
       "    </tr>\n",
       "  </thead>\n",
       "  <tbody>\n",
       "    <tr>\n",
       "      <th>0</th>\n",
       "      <td>2497938</td>\n",
       "      <td>CHILDREN'S CAMPUS CENTER</td>\n",
       "      <td>CHILDREN'S CAMPUS CENTER</td>\n",
       "      <td>2500760</td>\n",
       "      <td>Children's Services Facility</td>\n",
       "      <td>Risk 1 (High)</td>\n",
       "      <td>7248-7252 W TOUHY AVE</td>\n",
       "      <td>CHICAGO</td>\n",
       "      <td>IL</td>\n",
       "      <td>60631</td>\n",
       "      <td>2021-04-08T00:00:00.000</td>\n",
       "      <td>License</td>\n",
       "      <td>Pass</td>\n",
       "      <td>42.01177844204009</td>\n",
       "      <td>-87.80856351116931</td>\n",
       "      <td>{'latitude': '-87.80856351116931', 'longitude'...</td>\n",
       "      <td>3</td>\n",
       "      <td>1</td>\n",
       "    </tr>\n",
       "    <tr>\n",
       "      <th>1</th>\n",
       "      <td>2497889</td>\n",
       "      <td>DOS URBAN CANTINA</td>\n",
       "      <td>DOS URBAN CANTINA</td>\n",
       "      <td>2397621</td>\n",
       "      <td>Restaurant</td>\n",
       "      <td>Risk 1 (High)</td>\n",
       "      <td>2829-2831 W ARMITAGE AVE</td>\n",
       "      <td>CHICAGO</td>\n",
       "      <td>IL</td>\n",
       "      <td>60647</td>\n",
       "      <td>2021-04-07T00:00:00.000</td>\n",
       "      <td>Canvass</td>\n",
       "      <td>Fail</td>\n",
       "      <td>41.91737007807033</td>\n",
       "      <td>-87.6982492595568</td>\n",
       "      <td>{'latitude': '-87.6982492595568', 'longitude':...</td>\n",
       "      <td>2</td>\n",
       "      <td>0</td>\n",
       "    </tr>\n",
       "    <tr>\n",
       "      <th>2</th>\n",
       "      <td>2497888</td>\n",
       "      <td>OSTERIA LANGHE</td>\n",
       "      <td>OSTERIA LANGHE</td>\n",
       "      <td>1986445</td>\n",
       "      <td>Restaurant</td>\n",
       "      <td>Risk 1 (High)</td>\n",
       "      <td>2824 W ARMITAGE AVE</td>\n",
       "      <td>CHICAGO</td>\n",
       "      <td>IL</td>\n",
       "      <td>60647</td>\n",
       "      <td>2021-04-07T00:00:00.000</td>\n",
       "      <td>Non-Inspection</td>\n",
       "      <td>No Entry</td>\n",
       "      <td>41.917589593585454</td>\n",
       "      <td>-87.69825289828418</td>\n",
       "      <td>{'latitude': '-87.69825289828418', 'longitude'...</td>\n",
       "      <td>0</td>\n",
       "      <td>2</td>\n",
       "    </tr>\n",
       "    <tr>\n",
       "      <th>3</th>\n",
       "      <td>2497879</td>\n",
       "      <td>GIFT 4 KIDS DAYCARE CENTER LLC</td>\n",
       "      <td>GIFT 4 KIDS DAYCARE</td>\n",
       "      <td>2341291</td>\n",
       "      <td>Daycare Above and Under 2 Years</td>\n",
       "      <td>Risk 1 (High)</td>\n",
       "      <td>1305-1307 W 111TH ST</td>\n",
       "      <td>CHICAGO</td>\n",
       "      <td>IL</td>\n",
       "      <td>60643</td>\n",
       "      <td>2021-04-07T00:00:00.000</td>\n",
       "      <td>Canvass Re-Inspection</td>\n",
       "      <td>Pass</td>\n",
       "      <td>41.6920980711081</td>\n",
       "      <td>-87.6548091189968</td>\n",
       "      <td>{'latitude': '-87.6548091189968', 'longitude':...</td>\n",
       "      <td>2</td>\n",
       "      <td>1</td>\n",
       "    </tr>\n",
       "    <tr>\n",
       "      <th>4</th>\n",
       "      <td>2497926</td>\n",
       "      <td>CITGO ON FULTON</td>\n",
       "      <td>CITGO</td>\n",
       "      <td>2333227</td>\n",
       "      <td>Grocery Store</td>\n",
       "      <td>Risk 1 (High)</td>\n",
       "      <td>2959 W FULTON ST</td>\n",
       "      <td>CHICAGO</td>\n",
       "      <td>IL</td>\n",
       "      <td>60612</td>\n",
       "      <td>2021-04-07T00:00:00.000</td>\n",
       "      <td>Canvass</td>\n",
       "      <td>Pass w/ Conditions</td>\n",
       "      <td>41.886373230918444</td>\n",
       "      <td>-87.70123430696948</td>\n",
       "      <td>{'latitude': '-87.70123430696948', 'longitude'...</td>\n",
       "      <td>10</td>\n",
       "      <td>1</td>\n",
       "    </tr>\n",
       "    <tr>\n",
       "      <th>5</th>\n",
       "      <td>2497880</td>\n",
       "      <td>HOME OF THE HOAGY,INC</td>\n",
       "      <td>HOME OF THE HOAGY</td>\n",
       "      <td>2517823</td>\n",
       "      <td>Restaurant</td>\n",
       "      <td>Risk 1 (High)</td>\n",
       "      <td>1316 W 111TH ST</td>\n",
       "      <td>CHICAGO</td>\n",
       "      <td>IL</td>\n",
       "      <td>60643</td>\n",
       "      <td>2021-04-07T00:00:00.000</td>\n",
       "      <td>Complaint</td>\n",
       "      <td>Fail</td>\n",
       "      <td>41.69231135890114</td>\n",
       "      <td>-87.6552682468684</td>\n",
       "      <td>{'latitude': '-87.6552682468684', 'longitude':...</td>\n",
       "      <td>8</td>\n",
       "      <td>0</td>\n",
       "    </tr>\n",
       "    <tr>\n",
       "      <th>6</th>\n",
       "      <td>2497921</td>\n",
       "      <td>JOHN'S DRIVE IN</td>\n",
       "      <td>JOHN'S DRIVE IN</td>\n",
       "      <td>1770761</td>\n",
       "      <td>Restaurant</td>\n",
       "      <td>Risk 1 (High)</td>\n",
       "      <td>5900 S ASHLAND AVE</td>\n",
       "      <td>CHICAGO</td>\n",
       "      <td>IL</td>\n",
       "      <td>60636</td>\n",
       "      <td>2021-04-07T00:00:00.000</td>\n",
       "      <td>Canvass</td>\n",
       "      <td>Pass w/ Conditions</td>\n",
       "      <td>41.786654178265316</td>\n",
       "      <td>-87.66453915774333</td>\n",
       "      <td>{'latitude': '-87.66453915774333', 'longitude'...</td>\n",
       "      <td>7</td>\n",
       "      <td>1</td>\n",
       "    </tr>\n",
       "    <tr>\n",
       "      <th>7</th>\n",
       "      <td>2497909</td>\n",
       "      <td>ORTIZ  DE DOMINGUEZ ELEMENTARY SCHOOL</td>\n",
       "      <td>JOSEFA ORTIZ DE DOMINGUEZ ELEMENTARY SCHOOL</td>\n",
       "      <td>23411</td>\n",
       "      <td>School</td>\n",
       "      <td>Risk 1 (High)</td>\n",
       "      <td>3000 S LAWNDALE AVE</td>\n",
       "      <td>CHICAGO</td>\n",
       "      <td>IL</td>\n",
       "      <td>60623</td>\n",
       "      <td>2021-04-07T00:00:00.000</td>\n",
       "      <td>Canvass Re-Inspection</td>\n",
       "      <td>Pass</td>\n",
       "      <td>41.83875332874672</td>\n",
       "      <td>-87.71722613624108</td>\n",
       "      <td>{'latitude': '-87.71722613624108', 'longitude'...</td>\n",
       "      <td>0</td>\n",
       "      <td>1</td>\n",
       "    </tr>\n",
       "    <tr>\n",
       "      <th>8</th>\n",
       "      <td>2497885</td>\n",
       "      <td>SMOOTH AND SOCIAL</td>\n",
       "      <td>SMOOTH AND SOCIAL</td>\n",
       "      <td>2780947</td>\n",
       "      <td>Restaurant</td>\n",
       "      <td>Risk 1 (High)</td>\n",
       "      <td>1517-1521 W WARREN BLVD</td>\n",
       "      <td>CHICAGO</td>\n",
       "      <td>IL</td>\n",
       "      <td>60607</td>\n",
       "      <td>2021-04-07T00:00:00.000</td>\n",
       "      <td>License</td>\n",
       "      <td>Fail</td>\n",
       "      <td>41.882271529350035</td>\n",
       "      <td>-87.66589351471009</td>\n",
       "      <td>{'latitude': '-87.66589351471009', 'longitude'...</td>\n",
       "      <td>9</td>\n",
       "      <td>0</td>\n",
       "    </tr>\n",
       "    <tr>\n",
       "      <th>9</th>\n",
       "      <td>2497895</td>\n",
       "      <td>KIDS PLANET ACADEMY INC</td>\n",
       "      <td>JUST LIKE HOME</td>\n",
       "      <td>2636726</td>\n",
       "      <td>Children's Services Facility</td>\n",
       "      <td>Risk 1 (High)</td>\n",
       "      <td>1249-1251 W 63RD ST</td>\n",
       "      <td>CHICAGO</td>\n",
       "      <td>IL</td>\n",
       "      <td>60636</td>\n",
       "      <td>2021-04-07T00:00:00.000</td>\n",
       "      <td>Canvass</td>\n",
       "      <td>Pass</td>\n",
       "      <td>41.77947336795865</td>\n",
       "      <td>-87.65645608488629</td>\n",
       "      <td>{'latitude': '-87.65645608488629', 'longitude'...</td>\n",
       "      <td>3</td>\n",
       "      <td>1</td>\n",
       "    </tr>\n",
       "    <tr>\n",
       "      <th>10</th>\n",
       "      <td>2497902</td>\n",
       "      <td>EL TEXCAL RESTAURANT</td>\n",
       "      <td>EL TEXCAL RESTAURANT</td>\n",
       "      <td>2652423</td>\n",
       "      <td>Restaurant</td>\n",
       "      <td>Risk 1 (High)</td>\n",
       "      <td>3700 W LAWRENCE AVE</td>\n",
       "      <td>CHICAGO</td>\n",
       "      <td>IL</td>\n",
       "      <td>60625</td>\n",
       "      <td>2021-04-07T00:00:00.000</td>\n",
       "      <td>Canvass</td>\n",
       "      <td>Fail</td>\n",
       "      <td>41.96843111302068</td>\n",
       "      <td>-87.72076005083134</td>\n",
       "      <td>{'latitude': '-87.72076005083134', 'longitude'...</td>\n",
       "      <td>8</td>\n",
       "      <td>0</td>\n",
       "    </tr>\n",
       "    <tr>\n",
       "      <th>11</th>\n",
       "      <td>2497893</td>\n",
       "      <td>CHILDREN OF TOMORROW LEARNING CENTER INC.</td>\n",
       "      <td>CHILDREN OF TOMORROW CENTER</td>\n",
       "      <td>2216151</td>\n",
       "      <td>Daycare (2 - 6 Years)</td>\n",
       "      <td>Risk 1 (High)</td>\n",
       "      <td>7322 S DAMEN AVE</td>\n",
       "      <td>CHICAGO</td>\n",
       "      <td>IL</td>\n",
       "      <td>60636</td>\n",
       "      <td>2021-04-07T00:00:00.000</td>\n",
       "      <td>Non-Inspection</td>\n",
       "      <td>No Entry</td>\n",
       "      <td>41.76044180103881</td>\n",
       "      <td>-87.67356524355161</td>\n",
       "      <td>{'latitude': '-87.67356524355161', 'longitude'...</td>\n",
       "      <td>0</td>\n",
       "      <td>2</td>\n",
       "    </tr>\n",
       "    <tr>\n",
       "      <th>12</th>\n",
       "      <td>2497919</td>\n",
       "      <td>CHUCK 'E' CHEESE'S</td>\n",
       "      <td>CHUCK 'E' CHEESE'S</td>\n",
       "      <td>41897</td>\n",
       "      <td>Restaurant</td>\n",
       "      <td>Risk 1 (High)</td>\n",
       "      <td>5030 S KEDZIE AVE</td>\n",
       "      <td>CHICAGO</td>\n",
       "      <td>IL</td>\n",
       "      <td>60632</td>\n",
       "      <td>2021-04-07T00:00:00.000</td>\n",
       "      <td>Canvass Re-Inspection</td>\n",
       "      <td>Pass</td>\n",
       "      <td>41.801670034831716</td>\n",
       "      <td>-87.70393836191948</td>\n",
       "      <td>{'latitude': '-87.70393836191948', 'longitude'...</td>\n",
       "      <td>0</td>\n",
       "      <td>1</td>\n",
       "    </tr>\n",
       "    <tr>\n",
       "      <th>13</th>\n",
       "      <td>2497896</td>\n",
       "      <td>CARNICERIA LA VILLA NO.2</td>\n",
       "      <td>CARNICERIA LA VILLA #2</td>\n",
       "      <td>2575130</td>\n",
       "      <td>Grocery Store</td>\n",
       "      <td>Risk 1 (High)</td>\n",
       "      <td>5800 W GRAND AVE</td>\n",
       "      <td>CHICAGO</td>\n",
       "      <td>IL</td>\n",
       "      <td>60639</td>\n",
       "      <td>2021-04-07T00:00:00.000</td>\n",
       "      <td>Short Form Complaint</td>\n",
       "      <td>Pass w/ Conditions</td>\n",
       "      <td>41.9197749009712</td>\n",
       "      <td>-87.77072652582828</td>\n",
       "      <td>{'latitude': '-87.77072652582828', 'longitude'...</td>\n",
       "      <td>1</td>\n",
       "      <td>1</td>\n",
       "    </tr>\n",
       "    <tr>\n",
       "      <th>14</th>\n",
       "      <td>2497877</td>\n",
       "      <td>CHASE ELEMENTARY/CHASE  BR</td>\n",
       "      <td>CHASE ELEMEN./CHASE BR</td>\n",
       "      <td>22702</td>\n",
       "      <td>School</td>\n",
       "      <td>Risk 1 (High)</td>\n",
       "      <td>2021 N Point</td>\n",
       "      <td>CHICAGO</td>\n",
       "      <td>IL</td>\n",
       "      <td>60647</td>\n",
       "      <td>2021-04-07T00:00:00.000</td>\n",
       "      <td>Canvass</td>\n",
       "      <td>Fail</td>\n",
       "      <td>41.91801539468696</td>\n",
       "      <td>-87.69454143776636</td>\n",
       "      <td>{'latitude': '-87.69454143776636', 'longitude'...</td>\n",
       "      <td>3</td>\n",
       "      <td>0</td>\n",
       "    </tr>\n",
       "    <tr>\n",
       "      <th>15</th>\n",
       "      <td>2497894</td>\n",
       "      <td>ESQUINA DEL SABOR CATROCHO</td>\n",
       "      <td>ESQUINA DEL SABOR CATROCHO</td>\n",
       "      <td>2652559</td>\n",
       "      <td>Restaurant</td>\n",
       "      <td>Risk 1 (High)</td>\n",
       "      <td>2535 N LARAMIE AVE</td>\n",
       "      <td>CHICAGO</td>\n",
       "      <td>IL</td>\n",
       "      <td>60639</td>\n",
       "      <td>2021-04-07T00:00:00.000</td>\n",
       "      <td>Canvass Re-Inspection</td>\n",
       "      <td>Pass w/ Conditions</td>\n",
       "      <td>41.92703609309985</td>\n",
       "      <td>-87.7561061829788</td>\n",
       "      <td>{'latitude': '-87.7561061829788', 'longitude':...</td>\n",
       "      <td>5</td>\n",
       "      <td>1</td>\n",
       "    </tr>\n",
       "    <tr>\n",
       "      <th>16</th>\n",
       "      <td>2497891</td>\n",
       "      <td>Cullen</td>\n",
       "      <td>Cullen</td>\n",
       "      <td>23891</td>\n",
       "      <td>School</td>\n",
       "      <td>Risk 1 (High)</td>\n",
       "      <td>10650 S Eberhart (500E)</td>\n",
       "      <td>CHICAGO</td>\n",
       "      <td>IL</td>\n",
       "      <td>60628</td>\n",
       "      <td>2021-04-07T00:00:00.000</td>\n",
       "      <td>Canvass</td>\n",
       "      <td>Pass</td>\n",
       "      <td>41.70036106831835</td>\n",
       "      <td>-87.611281758793</td>\n",
       "      <td>{'latitude': '-87.611281758793', 'longitude': ...</td>\n",
       "      <td>2</td>\n",
       "      <td>1</td>\n",
       "    </tr>\n",
       "    <tr>\n",
       "      <th>17</th>\n",
       "      <td>2497927</td>\n",
       "      <td>MISS MUFFET RESTAURANT</td>\n",
       "      <td>JOHN'S DRIVE INN</td>\n",
       "      <td>1770761</td>\n",
       "      <td>Restaurant</td>\n",
       "      <td>Risk 1 (High)</td>\n",
       "      <td>5900 S ASHLAND AVE</td>\n",
       "      <td>CHICAGO</td>\n",
       "      <td>IL</td>\n",
       "      <td>60636</td>\n",
       "      <td>2021-04-07T00:00:00.000</td>\n",
       "      <td>Canvass</td>\n",
       "      <td>Out of Business</td>\n",
       "      <td>41.786654178265316</td>\n",
       "      <td>-87.66453915774333</td>\n",
       "      <td>{'latitude': '-87.66453915774333', 'longitude'...</td>\n",
       "      <td>0</td>\n",
       "      <td>2</td>\n",
       "    </tr>\n",
       "    <tr>\n",
       "      <th>18</th>\n",
       "      <td>2497878</td>\n",
       "      <td>Julian  (H/S)</td>\n",
       "      <td>Julian  (H/S)</td>\n",
       "      <td>46401</td>\n",
       "      <td>School</td>\n",
       "      <td>Risk 1 (High)</td>\n",
       "      <td>10330 S Elizabeth (1232W)</td>\n",
       "      <td>CHICAGO</td>\n",
       "      <td>IL</td>\n",
       "      <td>60643</td>\n",
       "      <td>2021-04-07T00:00:00.000</td>\n",
       "      <td>Canvass</td>\n",
       "      <td>Fail</td>\n",
       "      <td>41.70585971240203</td>\n",
       "      <td>-87.65378585398024</td>\n",
       "      <td>{'latitude': '-87.65378585398024', 'longitude'...</td>\n",
       "      <td>8</td>\n",
       "      <td>0</td>\n",
       "    </tr>\n",
       "    <tr>\n",
       "      <th>19</th>\n",
       "      <td>2497890</td>\n",
       "      <td>JACOB BEIDLER ELEMENTARY SCHOOL</td>\n",
       "      <td>Beidler Elementary School</td>\n",
       "      <td>22211</td>\n",
       "      <td>School</td>\n",
       "      <td>Risk 1 (High)</td>\n",
       "      <td>3151 W Walnut St (234N)</td>\n",
       "      <td>CHICAGO</td>\n",
       "      <td>IL</td>\n",
       "      <td>60612</td>\n",
       "      <td>2021-04-07T00:00:00.000</td>\n",
       "      <td>Canvass</td>\n",
       "      <td>Fail</td>\n",
       "      <td>41.88529401072774</td>\n",
       "      <td>-87.70581859311523</td>\n",
       "      <td>{'latitude': '-87.70581859311523', 'longitude'...</td>\n",
       "      <td>6</td>\n",
       "      <td>0</td>\n",
       "    </tr>\n",
       "  </tbody>\n",
       "</table>\n",
       "</div>"
      ],
      "text/plain": [
       "   inspection_id                                   dba_name  \\\n",
       "0        2497938                   CHILDREN'S CAMPUS CENTER   \n",
       "1        2497889                          DOS URBAN CANTINA   \n",
       "2        2497888                             OSTERIA LANGHE   \n",
       "3        2497879             GIFT 4 KIDS DAYCARE CENTER LLC   \n",
       "4        2497926                            CITGO ON FULTON   \n",
       "5        2497880                      HOME OF THE HOAGY,INC   \n",
       "6        2497921                            JOHN'S DRIVE IN   \n",
       "7        2497909      ORTIZ  DE DOMINGUEZ ELEMENTARY SCHOOL   \n",
       "8        2497885                          SMOOTH AND SOCIAL   \n",
       "9        2497895                    KIDS PLANET ACADEMY INC   \n",
       "10       2497902                       EL TEXCAL RESTAURANT   \n",
       "11       2497893  CHILDREN OF TOMORROW LEARNING CENTER INC.   \n",
       "12       2497919                         CHUCK 'E' CHEESE'S   \n",
       "13       2497896                   CARNICERIA LA VILLA NO.2   \n",
       "14       2497877                 CHASE ELEMENTARY/CHASE  BR   \n",
       "15       2497894                 ESQUINA DEL SABOR CATROCHO   \n",
       "16       2497891                                     Cullen   \n",
       "17       2497927                     MISS MUFFET RESTAURANT   \n",
       "18       2497878                              Julian  (H/S)   \n",
       "19       2497890            JACOB BEIDLER ELEMENTARY SCHOOL   \n",
       "\n",
       "                                       aka_name  license  \\\n",
       "0                      CHILDREN'S CAMPUS CENTER  2500760   \n",
       "1                             DOS URBAN CANTINA  2397621   \n",
       "2                                OSTERIA LANGHE  1986445   \n",
       "3                           GIFT 4 KIDS DAYCARE  2341291   \n",
       "4                                         CITGO  2333227   \n",
       "5                             HOME OF THE HOAGY  2517823   \n",
       "6                               JOHN'S DRIVE IN  1770761   \n",
       "7   JOSEFA ORTIZ DE DOMINGUEZ ELEMENTARY SCHOOL    23411   \n",
       "8                             SMOOTH AND SOCIAL  2780947   \n",
       "9                                JUST LIKE HOME  2636726   \n",
       "10                         EL TEXCAL RESTAURANT  2652423   \n",
       "11                  CHILDREN OF TOMORROW CENTER  2216151   \n",
       "12                           CHUCK 'E' CHEESE'S    41897   \n",
       "13                       CARNICERIA LA VILLA #2  2575130   \n",
       "14                       CHASE ELEMEN./CHASE BR    22702   \n",
       "15                   ESQUINA DEL SABOR CATROCHO  2652559   \n",
       "16                                       Cullen    23891   \n",
       "17                             JOHN'S DRIVE INN  1770761   \n",
       "18                                Julian  (H/S)    46401   \n",
       "19                    Beidler Elementary School    22211   \n",
       "\n",
       "                      facility_type           risk  \\\n",
       "0      Children's Services Facility  Risk 1 (High)   \n",
       "1                        Restaurant  Risk 1 (High)   \n",
       "2                        Restaurant  Risk 1 (High)   \n",
       "3   Daycare Above and Under 2 Years  Risk 1 (High)   \n",
       "4                     Grocery Store  Risk 1 (High)   \n",
       "5                        Restaurant  Risk 1 (High)   \n",
       "6                        Restaurant  Risk 1 (High)   \n",
       "7                            School  Risk 1 (High)   \n",
       "8                        Restaurant  Risk 1 (High)   \n",
       "9      Children's Services Facility  Risk 1 (High)   \n",
       "10                       Restaurant  Risk 1 (High)   \n",
       "11            Daycare (2 - 6 Years)  Risk 1 (High)   \n",
       "12                       Restaurant  Risk 1 (High)   \n",
       "13                    Grocery Store  Risk 1 (High)   \n",
       "14                           School  Risk 1 (High)   \n",
       "15                       Restaurant  Risk 1 (High)   \n",
       "16                           School  Risk 1 (High)   \n",
       "17                       Restaurant  Risk 1 (High)   \n",
       "18                           School  Risk 1 (High)   \n",
       "19                           School  Risk 1 (High)   \n",
       "\n",
       "                       address     city state    zip          inspection_date  \\\n",
       "0       7248-7252 W TOUHY AVE   CHICAGO    IL  60631  2021-04-08T00:00:00.000   \n",
       "1    2829-2831 W ARMITAGE AVE   CHICAGO    IL  60647  2021-04-07T00:00:00.000   \n",
       "2         2824 W ARMITAGE AVE   CHICAGO    IL  60647  2021-04-07T00:00:00.000   \n",
       "3        1305-1307 W 111TH ST   CHICAGO    IL  60643  2021-04-07T00:00:00.000   \n",
       "4            2959 W FULTON ST   CHICAGO    IL  60612  2021-04-07T00:00:00.000   \n",
       "5             1316 W 111TH ST   CHICAGO    IL  60643  2021-04-07T00:00:00.000   \n",
       "6          5900 S ASHLAND AVE   CHICAGO    IL  60636  2021-04-07T00:00:00.000   \n",
       "7         3000 S LAWNDALE AVE   CHICAGO    IL  60623  2021-04-07T00:00:00.000   \n",
       "8     1517-1521 W WARREN BLVD   CHICAGO    IL  60607  2021-04-07T00:00:00.000   \n",
       "9         1249-1251 W 63RD ST   CHICAGO    IL  60636  2021-04-07T00:00:00.000   \n",
       "10        3700 W LAWRENCE AVE   CHICAGO    IL  60625  2021-04-07T00:00:00.000   \n",
       "11           7322 S DAMEN AVE   CHICAGO    IL  60636  2021-04-07T00:00:00.000   \n",
       "12          5030 S KEDZIE AVE   CHICAGO    IL  60632  2021-04-07T00:00:00.000   \n",
       "13           5800 W GRAND AVE   CHICAGO    IL  60639  2021-04-07T00:00:00.000   \n",
       "14               2021 N Point   CHICAGO    IL  60647  2021-04-07T00:00:00.000   \n",
       "15         2535 N LARAMIE AVE   CHICAGO    IL  60639  2021-04-07T00:00:00.000   \n",
       "16    10650 S Eberhart (500E)   CHICAGO    IL  60628  2021-04-07T00:00:00.000   \n",
       "17         5900 S ASHLAND AVE   CHICAGO    IL  60636  2021-04-07T00:00:00.000   \n",
       "18  10330 S Elizabeth (1232W)   CHICAGO    IL  60643  2021-04-07T00:00:00.000   \n",
       "19    3151 W Walnut St (234N)   CHICAGO    IL  60612  2021-04-07T00:00:00.000   \n",
       "\n",
       "          inspection_type             results            latitude  \\\n",
       "0                 License                Pass   42.01177844204009   \n",
       "1                 Canvass                Fail   41.91737007807033   \n",
       "2          Non-Inspection            No Entry  41.917589593585454   \n",
       "3   Canvass Re-Inspection                Pass    41.6920980711081   \n",
       "4                 Canvass  Pass w/ Conditions  41.886373230918444   \n",
       "5               Complaint                Fail   41.69231135890114   \n",
       "6                 Canvass  Pass w/ Conditions  41.786654178265316   \n",
       "7   Canvass Re-Inspection                Pass   41.83875332874672   \n",
       "8                 License                Fail  41.882271529350035   \n",
       "9                 Canvass                Pass   41.77947336795865   \n",
       "10                Canvass                Fail   41.96843111302068   \n",
       "11         Non-Inspection            No Entry   41.76044180103881   \n",
       "12  Canvass Re-Inspection                Pass  41.801670034831716   \n",
       "13   Short Form Complaint  Pass w/ Conditions    41.9197749009712   \n",
       "14                Canvass                Fail   41.91801539468696   \n",
       "15  Canvass Re-Inspection  Pass w/ Conditions   41.92703609309985   \n",
       "16                Canvass                Pass   41.70036106831835   \n",
       "17                Canvass     Out of Business  41.786654178265316   \n",
       "18                Canvass                Fail   41.70585971240203   \n",
       "19                Canvass                Fail   41.88529401072774   \n",
       "\n",
       "             longitude                                           location  \\\n",
       "0   -87.80856351116931  {'latitude': '-87.80856351116931', 'longitude'...   \n",
       "1    -87.6982492595568  {'latitude': '-87.6982492595568', 'longitude':...   \n",
       "2   -87.69825289828418  {'latitude': '-87.69825289828418', 'longitude'...   \n",
       "3    -87.6548091189968  {'latitude': '-87.6548091189968', 'longitude':...   \n",
       "4   -87.70123430696948  {'latitude': '-87.70123430696948', 'longitude'...   \n",
       "5    -87.6552682468684  {'latitude': '-87.6552682468684', 'longitude':...   \n",
       "6   -87.66453915774333  {'latitude': '-87.66453915774333', 'longitude'...   \n",
       "7   -87.71722613624108  {'latitude': '-87.71722613624108', 'longitude'...   \n",
       "8   -87.66589351471009  {'latitude': '-87.66589351471009', 'longitude'...   \n",
       "9   -87.65645608488629  {'latitude': '-87.65645608488629', 'longitude'...   \n",
       "10  -87.72076005083134  {'latitude': '-87.72076005083134', 'longitude'...   \n",
       "11  -87.67356524355161  {'latitude': '-87.67356524355161', 'longitude'...   \n",
       "12  -87.70393836191948  {'latitude': '-87.70393836191948', 'longitude'...   \n",
       "13  -87.77072652582828  {'latitude': '-87.77072652582828', 'longitude'...   \n",
       "14  -87.69454143776636  {'latitude': '-87.69454143776636', 'longitude'...   \n",
       "15   -87.7561061829788  {'latitude': '-87.7561061829788', 'longitude':...   \n",
       "16    -87.611281758793  {'latitude': '-87.611281758793', 'longitude': ...   \n",
       "17  -87.66453915774333  {'latitude': '-87.66453915774333', 'longitude'...   \n",
       "18  -87.65378585398024  {'latitude': '-87.65378585398024', 'longitude'...   \n",
       "19  -87.70581859311523  {'latitude': '-87.70581859311523', 'longitude'...   \n",
       "\n",
       "    violations_count  label_results  \n",
       "0                  3              1  \n",
       "1                  2              0  \n",
       "2                  0              2  \n",
       "3                  2              1  \n",
       "4                 10              1  \n",
       "5                  8              0  \n",
       "6                  7              1  \n",
       "7                  0              1  \n",
       "8                  9              0  \n",
       "9                  3              1  \n",
       "10                 8              0  \n",
       "11                 0              2  \n",
       "12                 0              1  \n",
       "13                 1              1  \n",
       "14                 3              0  \n",
       "15                 5              1  \n",
       "16                 2              1  \n",
       "17                 0              2  \n",
       "18                 8              0  \n",
       "19                 6              0  "
      ]
     },
     "execution_count": 19,
     "metadata": {},
     "output_type": "execute_result"
    }
   ],
   "source": [
    "df.head(20\n",
    "       )"
   ]
  },
  {
   "cell_type": "code",
   "execution_count": 55,
   "metadata": {},
   "outputs": [
    {
     "name": "stderr",
     "output_type": "stream",
     "text": [
      "<ipython-input-55-c8e81361ae83>:2: SettingWithCopyWarning: \n",
      "A value is trying to be set on a copy of a slice from a DataFrame.\n",
      "Try using .loc[row_indexer,col_indexer] = value instead\n",
      "\n",
      "See the caveats in the documentation: https://pandas.pydata.org/pandas-docs/stable/user_guide/indexing.html#returning-a-view-versus-a-copy\n",
      "  df_np1['label_results'] = 0\n",
      "<ipython-input-55-c8e81361ae83>:5: SettingWithCopyWarning: \n",
      "A value is trying to be set on a copy of a slice from a DataFrame.\n",
      "Try using .loc[row_indexer,col_indexer] = value instead\n",
      "\n",
      "See the caveats in the documentation: https://pandas.pydata.org/pandas-docs/stable/user_guide/indexing.html#returning-a-view-versus-a-copy\n",
      "  df_np2['label_results'] = 1\n",
      "<ipython-input-55-c8e81361ae83>:8: SettingWithCopyWarning: \n",
      "A value is trying to be set on a copy of a slice from a DataFrame.\n",
      "Try using .loc[row_indexer,col_indexer] = value instead\n",
      "\n",
      "See the caveats in the documentation: https://pandas.pydata.org/pandas-docs/stable/user_guide/indexing.html#returning-a-view-versus-a-copy\n",
      "  df_np3['label_results'] = 1\n",
      "<ipython-input-55-c8e81361ae83>:11: SettingWithCopyWarning: \n",
      "A value is trying to be set on a copy of a slice from a DataFrame.\n",
      "Try using .loc[row_indexer,col_indexer] = value instead\n",
      "\n",
      "See the caveats in the documentation: https://pandas.pydata.org/pandas-docs/stable/user_guide/indexing.html#returning-a-view-versus-a-copy\n",
      "  df_np4['label_results'] = 2\n",
      "<ipython-input-55-c8e81361ae83>:14: SettingWithCopyWarning: \n",
      "A value is trying to be set on a copy of a slice from a DataFrame.\n",
      "Try using .loc[row_indexer,col_indexer] = value instead\n",
      "\n",
      "See the caveats in the documentation: https://pandas.pydata.org/pandas-docs/stable/user_guide/indexing.html#returning-a-view-versus-a-copy\n",
      "  df_np5['label_results'] = 2\n",
      "<ipython-input-55-c8e81361ae83>:17: SettingWithCopyWarning: \n",
      "A value is trying to be set on a copy of a slice from a DataFrame.\n",
      "Try using .loc[row_indexer,col_indexer] = value instead\n",
      "\n",
      "See the caveats in the documentation: https://pandas.pydata.org/pandas-docs/stable/user_guide/indexing.html#returning-a-view-versus-a-copy\n",
      "  df_np6['label_results'] = 2\n",
      "<ipython-input-55-c8e81361ae83>:20: SettingWithCopyWarning: \n",
      "A value is trying to be set on a copy of a slice from a DataFrame.\n",
      "Try using .loc[row_indexer,col_indexer] = value instead\n",
      "\n",
      "See the caveats in the documentation: https://pandas.pydata.org/pandas-docs/stable/user_guide/indexing.html#returning-a-view-versus-a-copy\n",
      "  df_np7['label_results'] = 2\n"
     ]
    }
   ],
   "source": [
    "df_np1 = df[df['results'] == 'Fail']\n",
    "df_np1['label_results'] = 0\n",
    "\n",
    "df_np2 = df[df['results'] == 'Pass']\n",
    "df_np2['label_results'] = 1\n",
    "\n",
    "df_np3 = df[df['results'] == 'Pass w/ Conditions']\n",
    "df_np3['label_results'] = 1\n",
    "\n",
    "df_np4 = df[df['results'] == 'Business Not Located']\n",
    "df_np4['label_results'] = 2\n",
    "\n",
    "df_np5 = df[df['results'] == 'No Entry']\n",
    "df_np5['label_results'] = 2\n",
    "\n",
    "df_np6 = df[df['results'] == 'Not Ready']\n",
    "df_np6['label_results'] = 2\n",
    "\n",
    "df_np7 = df[df['results'] == 'Out of Business']\n",
    "df_np7['label_results'] = 2\n",
    "\n",
    "df = df_np1.append(df_np2).append(df_np3).append(df_np4).append(df_np5).append(df_np6).append(df_np7)"
   ]
  },
  {
   "cell_type": "markdown",
   "metadata": {},
   "source": [
    "Quitamos la variable ***'results'***:"
   ]
  },
  {
   "cell_type": "code",
   "execution_count": 10,
   "metadata": {},
   "outputs": [],
   "source": [
    "df.drop(['results'], axis = 1, inplace = True)"
   ]
  },
  {
   "cell_type": "markdown",
   "metadata": {},
   "source": [
    "En nuestro ***GEDA*** observamos que los resultados que agrupamos con la etiqueta 2, juntos apenas representan poco más del 10% del total de las inspecciones. Aunado a esto, ya que no son resultados que impliquen directamente que el establecimiento no pasó o sí pasó la(s) inspección(es), los quitamos."
   ]
  },
  {
   "cell_type": "code",
   "execution_count": 11,
   "metadata": {},
   "outputs": [],
   "source": [
    "df.drop(df.loc[df['label_results'] == 2].index, inplace=True)"
   ]
  },
  {
   "cell_type": "markdown",
   "metadata": {},
   "source": [
    "En la variable ***risk***, tenemos 5 tipos de resultados distintos:\n",
    "\n",
    "- ***risk 1 (high)***\n",
    "- ***risk 2 (medium)***\n",
    "- ***risk 3 (low)***\n",
    "- ***all***\n",
    "- ***NaN***\n",
    "\n",
    "Creamos una variable llamada ***'label_risk'***, donde la etiqueta 3 implica que el riesgo es ***risk 1 (high)***, la etiqueta 2 implica que el riesgo es ***risk 2 (medium)***, la etiqueta 1 implica que el riesgo es ***risk 3 (low)*** y la etiqueta 0 implica que el riesgo es ***all*** o ***valores nulos***:"
   ]
  },
  {
   "cell_type": "code",
   "execution_count": 12,
   "metadata": {},
   "outputs": [],
   "source": [
    "df['risk'] = df['risk'].replace([\"Risk 1 (High)\"],3)"
   ]
  },
  {
   "cell_type": "code",
   "execution_count": 13,
   "metadata": {},
   "outputs": [],
   "source": [
    "df['risk'] = df['risk'].replace([\"Risk 2 (Medium)\"],2)"
   ]
  },
  {
   "cell_type": "code",
   "execution_count": 14,
   "metadata": {},
   "outputs": [],
   "source": [
    "df['risk'] = df['risk'].replace([\"Risk 3 (Low)\"],1)"
   ]
  },
  {
   "cell_type": "code",
   "execution_count": 15,
   "metadata": {},
   "outputs": [],
   "source": [
    "df['risk'] = df['risk'].replace([\"All\"],0)"
   ]
  },
  {
   "cell_type": "code",
   "execution_count": 16,
   "metadata": {},
   "outputs": [],
   "source": [
    "df['risk'] = pd.to_numeric(df['risk'], errors='coerce')\n",
    "df['risk'] = df['risk'].fillna(0)"
   ]
  },
  {
   "cell_type": "code",
   "execution_count": 17,
   "metadata": {},
   "outputs": [],
   "source": [
    "df=df.rename(columns = {'risk':'label_risk'})\n",
    "df['label_risk'] = df['label_risk'].astype('int')"
   ]
  },
  {
   "cell_type": "markdown",
   "metadata": {},
   "source": [
    "#### Variables de fecha"
   ]
  },
  {
   "cell_type": "code",
   "execution_count": 18,
   "metadata": {},
   "outputs": [],
   "source": [
    "df['inspection_date'] = pd.to_datetime(df['inspection_date'], infer_datetime_format=True)"
   ]
  },
  {
   "cell_type": "markdown",
   "metadata": {},
   "source": [
    "Creamos la variable '***inspection_month***' que contiene el mes de la inspección:"
   ]
  },
  {
   "cell_type": "code",
   "execution_count": 19,
   "metadata": {},
   "outputs": [],
   "source": [
    "df['inspection_month']=df['inspection_date'].dt.month"
   ]
  },
  {
   "cell_type": "code",
   "execution_count": 20,
   "metadata": {},
   "outputs": [],
   "source": [
    "MONTH = 12\n",
    "df['sin_mnth'] = np.sin(2*np.pi*df.inspection_month/MONTH)\n",
    "df['cos_mnth'] = np.cos(2*np.pi*df.inspection_month/MONTH)"
   ]
  },
  {
   "cell_type": "markdown",
   "metadata": {},
   "source": [
    "Creamos la variable '***inspection_weekday***' que contiene el día de la semana de la inspección:"
   ]
  },
  {
   "cell_type": "code",
   "execution_count": 21,
   "metadata": {},
   "outputs": [],
   "source": [
    "df['inspection_weekday']=df['inspection_date'].dt.weekday"
   ]
  },
  {
   "cell_type": "code",
   "execution_count": 22,
   "metadata": {},
   "outputs": [],
   "source": [
    "WEEKDAY = 7\n",
    "df['sin_wkd'] = np.sin(2*np.pi*df.inspection_weekday/WEEKDAY)\n",
    "df['cos_wkd'] = np.cos(2*np.pi*df.inspection_weekday/WEEKDAY)"
   ]
  },
  {
   "cell_type": "markdown",
   "metadata": {},
   "source": [
    "### Limpieza e imputación de datos"
   ]
  },
  {
   "cell_type": "markdown",
   "metadata": {},
   "source": [
    "- ***'aka_name'*** lo imputamos con ***'dba_name'***:"
   ]
  },
  {
   "cell_type": "code",
   "execution_count": 23,
   "metadata": {},
   "outputs": [],
   "source": [
    "df['dba_name']= df['dba_name'].astype('object')\n",
    "df['aka_name']= df['aka_name'].astype('object')"
   ]
  },
  {
   "cell_type": "code",
   "execution_count": 24,
   "metadata": {},
   "outputs": [],
   "source": [
    "df['aka_name'] = df['aka_name'].fillna(df['dba_name'])"
   ]
  },
  {
   "cell_type": "markdown",
   "metadata": {},
   "source": [
    "La implicación de hacer esta imputación es que podría ocurrir que el nombre legal del establecimiento no coincida con el público y pueda generar algún detalle cuando se realicen filtros o resúmenes de la información. Aunque por la proporción de faltantes se considera que no tendría implicaciones en el modelo ni en sus resultados."
   ]
  },
  {
   "cell_type": "markdown",
   "metadata": {},
   "source": [
    "Las columnas que son de tipo texto las pasamos a minúsculas:"
   ]
  },
  {
   "cell_type": "code",
   "execution_count": 25,
   "metadata": {},
   "outputs": [],
   "source": [
    "df['dba_name']= df['dba_name'].astype(str).str.lower()\n",
    "df['aka_name']= df['aka_name'].astype(str).str.lower()\n",
    "df['facility_type']= df['facility_type'].astype(str).str.lower()\n",
    "df['state']= df['state'].astype(str).str.lower()\n",
    "df['inspection_type']= df['inspection_type'].astype(str).str.lower()"
   ]
  },
  {
   "cell_type": "markdown",
   "metadata": {},
   "source": [
    "Nos quedamos sólo con el estado de *Illinois*:"
   ]
  },
  {
   "cell_type": "code",
   "execution_count": 26,
   "metadata": {},
   "outputs": [],
   "source": [
    "df = df[~df['state'].isin(['wi', 'ny', 'in'])]"
   ]
  },
  {
   "cell_type": "markdown",
   "metadata": {},
   "source": [
    "Eliminamos espacios en blanco (reemplazamos con guiones bajos) y eliminamos caracteres especiales:"
   ]
  },
  {
   "cell_type": "code",
   "execution_count": 27,
   "metadata": {},
   "outputs": [],
   "source": [
    "def standarize_column_strings(df, columns, excluded_punctuation=\".,*¿?¡!\"):\n",
    "    for col in columns:\n",
    "        df[col] = df[col].str.lower().astype(str).str.replace(\" \", \"_\")\n",
    "        df[col] = df[col].str.lower().astype(str).str.replace(\"-\", \"_\")\n",
    "        df[col] = df[col].str.lower().astype(str).str.replace(\"á\", \"a\")\n",
    "        df[col] = df[col].str.lower().astype(str).str.replace(\"é\", \"e\")\n",
    "        df[col] = df[col].str.lower().astype(str).str.replace(\"í\", \"i\")\n",
    "        df[col] = df[col].str.lower().astype(str).str.replace(\"ó\", \"o\")\n",
    "        df[col] = df[col].str.lower().astype(str).str.replace(\"ú\", \"u\")\n",
    "        df[col] = df[col].str.lower().astype(str).str.replace(\"ü\", \"u\")\n",
    "        df[col] = df[col].str.lower().astype(str).str.replace(r\"[^a-zA-Z\\d\\_]+\", \"\")\n",
    "        for ch in excluded_punctuation:\n",
    "            df[col] = df[col].str.replace(ch, \"\")"
   ]
  },
  {
   "cell_type": "code",
   "execution_count": 28,
   "metadata": {},
   "outputs": [],
   "source": [
    "col_text = ['dba_name','aka_name']\n",
    "standarize_column_strings(df, col_text)"
   ]
  },
  {
   "cell_type": "code",
   "execution_count": 29,
   "metadata": {},
   "outputs": [
    {
     "data": {
      "text/html": [
       "<div>\n",
       "<style scoped>\n",
       "    .dataframe tbody tr th:only-of-type {\n",
       "        vertical-align: middle;\n",
       "    }\n",
       "\n",
       "    .dataframe tbody tr th {\n",
       "        vertical-align: top;\n",
       "    }\n",
       "\n",
       "    .dataframe thead th {\n",
       "        text-align: right;\n",
       "    }\n",
       "</style>\n",
       "<table border=\"1\" class=\"dataframe\">\n",
       "  <thead>\n",
       "    <tr style=\"text-align: right;\">\n",
       "      <th></th>\n",
       "      <th>Proporción de valores faltantes</th>\n",
       "    </tr>\n",
       "  </thead>\n",
       "  <tbody>\n",
       "    <tr>\n",
       "      <th>inspection_id</th>\n",
       "      <td>0.00</td>\n",
       "    </tr>\n",
       "    <tr>\n",
       "      <th>dba_name</th>\n",
       "      <td>0.00</td>\n",
       "    </tr>\n",
       "    <tr>\n",
       "      <th>aka_name</th>\n",
       "      <td>0.00</td>\n",
       "    </tr>\n",
       "    <tr>\n",
       "      <th>license</th>\n",
       "      <td>0.01</td>\n",
       "    </tr>\n",
       "    <tr>\n",
       "      <th>facility_type</th>\n",
       "      <td>0.00</td>\n",
       "    </tr>\n",
       "    <tr>\n",
       "      <th>label_risk</th>\n",
       "      <td>0.00</td>\n",
       "    </tr>\n",
       "    <tr>\n",
       "      <th>address</th>\n",
       "      <td>0.00</td>\n",
       "    </tr>\n",
       "    <tr>\n",
       "      <th>city</th>\n",
       "      <td>0.07</td>\n",
       "    </tr>\n",
       "    <tr>\n",
       "      <th>state</th>\n",
       "      <td>0.00</td>\n",
       "    </tr>\n",
       "    <tr>\n",
       "      <th>zip</th>\n",
       "      <td>0.02</td>\n",
       "    </tr>\n",
       "    <tr>\n",
       "      <th>inspection_date</th>\n",
       "      <td>0.00</td>\n",
       "    </tr>\n",
       "    <tr>\n",
       "      <th>inspection_type</th>\n",
       "      <td>0.00</td>\n",
       "    </tr>\n",
       "    <tr>\n",
       "      <th>latitude</th>\n",
       "      <td>0.36</td>\n",
       "    </tr>\n",
       "    <tr>\n",
       "      <th>longitude</th>\n",
       "      <td>0.36</td>\n",
       "    </tr>\n",
       "    <tr>\n",
       "      <th>location</th>\n",
       "      <td>0.36</td>\n",
       "    </tr>\n",
       "    <tr>\n",
       "      <th>violations_count</th>\n",
       "      <td>0.00</td>\n",
       "    </tr>\n",
       "    <tr>\n",
       "      <th>label_results</th>\n",
       "      <td>0.00</td>\n",
       "    </tr>\n",
       "    <tr>\n",
       "      <th>inspection_month</th>\n",
       "      <td>0.00</td>\n",
       "    </tr>\n",
       "    <tr>\n",
       "      <th>sin_mnth</th>\n",
       "      <td>0.00</td>\n",
       "    </tr>\n",
       "    <tr>\n",
       "      <th>cos_mnth</th>\n",
       "      <td>0.00</td>\n",
       "    </tr>\n",
       "    <tr>\n",
       "      <th>inspection_weekday</th>\n",
       "      <td>0.00</td>\n",
       "    </tr>\n",
       "    <tr>\n",
       "      <th>sin_wkd</th>\n",
       "      <td>0.00</td>\n",
       "    </tr>\n",
       "    <tr>\n",
       "      <th>cos_wkd</th>\n",
       "      <td>0.00</td>\n",
       "    </tr>\n",
       "  </tbody>\n",
       "</table>\n",
       "</div>"
      ],
      "text/plain": [
       "                    Proporción de valores faltantes\n",
       "inspection_id                                  0.00\n",
       "dba_name                                       0.00\n",
       "aka_name                                       0.00\n",
       "license                                        0.01\n",
       "facility_type                                  0.00\n",
       "label_risk                                     0.00\n",
       "address                                        0.00\n",
       "city                                           0.07\n",
       "state                                          0.00\n",
       "zip                                            0.02\n",
       "inspection_date                                0.00\n",
       "inspection_type                                0.00\n",
       "latitude                                       0.36\n",
       "longitude                                      0.36\n",
       "location                                       0.36\n",
       "violations_count                               0.00\n",
       "label_results                                  0.00\n",
       "inspection_month                               0.00\n",
       "sin_mnth                                       0.00\n",
       "cos_mnth                                       0.00\n",
       "inspection_weekday                             0.00\n",
       "sin_wkd                                        0.00\n",
       "cos_wkd                                        0.00"
      ]
     },
     "execution_count": 29,
     "metadata": {},
     "output_type": "execute_result"
    }
   ],
   "source": [
    "missings_prop = df.apply(lambda x: round(x.isnull().sum()/df.shape[0]*100, 2))\n",
    "missings_numeric_df = pd.DataFrame({'Proporción de valores faltantes': missings_prop})\n",
    "missings_numeric_df"
   ]
  },
  {
   "cell_type": "code",
   "execution_count": 30,
   "metadata": {},
   "outputs": [
    {
     "data": {
      "text/plain": [
       "16"
      ]
     },
     "execution_count": 30,
     "metadata": {},
     "output_type": "execute_result"
    }
   ],
   "source": [
    "data = df.loc[df['license'].isnull()]\n",
    "len(data)"
   ]
  },
  {
   "cell_type": "markdown",
   "metadata": {},
   "source": [
    "Se decide omitir estos registros ya que representan una cantidad mínima de la base de datos completa, además, es probable que no cuenten cin una licencia ya que en la mayoría de ellos se trata de eventos individuales que realiza alguna iglesia y no puede considerarse como un establecimeinto fijo."
   ]
  },
  {
   "cell_type": "code",
   "execution_count": 31,
   "metadata": {},
   "outputs": [],
   "source": [
    "df.drop(df.loc[df['license'].isnull()].index, inplace=True)"
   ]
  },
  {
   "cell_type": "markdown",
   "metadata": {},
   "source": [
    "Para imputar los valores faltantes de la variable ***zip*** procedemos de manera similar al caso anterior, ya que la cantidad de registros con esta condición es mínima."
   ]
  },
  {
   "cell_type": "code",
   "execution_count": 32,
   "metadata": {},
   "outputs": [
    {
     "data": {
      "text/plain": [
       "30"
      ]
     },
     "execution_count": 32,
     "metadata": {},
     "output_type": "execute_result"
    }
   ],
   "source": [
    "data = df.loc[df['zip'].isnull()]\n",
    "len(data)"
   ]
  },
  {
   "cell_type": "code",
   "execution_count": 33,
   "metadata": {},
   "outputs": [],
   "source": [
    "df.drop(df.loc[df['zip'].isnull()].index, inplace=True)"
   ]
  },
  {
   "cell_type": "markdown",
   "metadata": {},
   "source": [
    "Para los valores valtantes de ***facility_type***, dado que es un número de registros considerable (646), procedemos a imputar con el valor que tenga un registro que comparta el mismo ***aka_name*** ya que nos garantiza que se trata de un negocio del mismo giro."
   ]
  },
  {
   "cell_type": "code",
   "execution_count": 34,
   "metadata": {},
   "outputs": [
    {
     "data": {
      "text/plain": [
       "0"
      ]
     },
     "execution_count": 34,
     "metadata": {},
     "output_type": "execute_result"
    }
   ],
   "source": [
    "data = df.loc[df['facility_type'].isnull()]\n",
    "len(data)"
   ]
  },
  {
   "cell_type": "markdown",
   "metadata": {},
   "source": [
    "Para ello haremos un diccionario con las llaves conformadas por ***aka_name*** y los valores por el ***facility_type*** del registro que si tiene valor asignado."
   ]
  },
  {
   "cell_type": "code",
   "execution_count": 35,
   "metadata": {},
   "outputs": [],
   "source": [
    "df_dict_dummy = pd.DataFrame(df['aka_name'])\n",
    "df_dict_dummy['facility_type'] = df['facility_type']\n",
    "df_dict_dummy.drop(df_dict_dummy.loc[df_dict_dummy['facility_type'].isnull()].index, inplace=True)\n",
    "group = df_dict_dummy.groupby('aka_name')\n",
    "df_dict_dummy2 = group.apply(lambda x: x['facility_type'].unique())\n",
    "df_dict_dummy3 = df_dict_dummy2.to_frame()\n",
    "df_dict_dummy3.reset_index(level = 'aka_name', inplace = True)\n",
    "df_dict_dummy3 = df_dict_dummy3.rename(columns = {0:'facility_type'})\n",
    "df_dict_dummy3['facility_type'] = df_dict_dummy3['facility_type'].apply(lambda x: str(x[0]))\n",
    "\n",
    "#dic = df_dict_dummy3.set_index('aka_name').to_dict()"
   ]
  },
  {
   "cell_type": "code",
   "execution_count": 36,
   "metadata": {},
   "outputs": [],
   "source": [
    "df2 = pd.merge(df,df_dict_dummy3, how = 'left', on = 'aka_name')\n",
    "df2['facility_type_x'] = df2['facility_type_x'].fillna(df2['facility_type_y'])"
   ]
  },
  {
   "cell_type": "code",
   "execution_count": 37,
   "metadata": {},
   "outputs": [],
   "source": [
    "df2['facility_type_x'] = df2['facility_type_x'].fillna('restaurant')\n",
    "df2=df2.rename(columns = {'facility_type_x':'facility_type'})"
   ]
  },
  {
   "cell_type": "markdown",
   "metadata": {},
   "source": [
    "Ahora eliminamos las columnas que ya no son necesarias y que seleccionamos anteriormente en el *Feature Selection*"
   ]
  },
  {
   "cell_type": "code",
   "execution_count": 38,
   "metadata": {},
   "outputs": [],
   "source": [
    "df2.drop(['inspection_id','dba_name','address','city','state','latitude','longitude','location','facility_type_y','inspection_weekday','inspection_month'],axis = 1, inplace = True)"
   ]
  },
  {
   "cell_type": "code",
   "execution_count": 39,
   "metadata": {
    "scrolled": true
   },
   "outputs": [
    {
     "data": {
      "text/plain": [
       "(189351, 13)"
      ]
     },
     "execution_count": 39,
     "metadata": {},
     "output_type": "execute_result"
    }
   ],
   "source": [
    "df2.shape"
   ]
  },
  {
   "cell_type": "code",
   "execution_count": 40,
   "metadata": {},
   "outputs": [
    {
     "name": "stdout",
     "output_type": "stream",
     "text": [
      "<class 'pandas.core.frame.DataFrame'>\n",
      "Int64Index: 189351 entries, 0 to 189350\n",
      "Data columns (total 13 columns):\n",
      " #   Column            Non-Null Count   Dtype         \n",
      "---  ------            --------------   -----         \n",
      " 0   aka_name          189351 non-null  object        \n",
      " 1   license           189351 non-null  object        \n",
      " 2   facility_type     189351 non-null  object        \n",
      " 3   label_risk        189351 non-null  int64         \n",
      " 4   zip               189351 non-null  object        \n",
      " 5   inspection_date   189351 non-null  datetime64[ns]\n",
      " 6   inspection_type   189351 non-null  object        \n",
      " 7   violations_count  189351 non-null  int64         \n",
      " 8   label_results     189351 non-null  int64         \n",
      " 9   sin_mnth          189351 non-null  float64       \n",
      " 10  cos_mnth          189351 non-null  float64       \n",
      " 11  sin_wkd           189351 non-null  float64       \n",
      " 12  cos_wkd           189351 non-null  float64       \n",
      "dtypes: datetime64[ns](1), float64(4), int64(3), object(5)\n",
      "memory usage: 20.2+ MB\n"
     ]
    }
   ],
   "source": [
    "df2.info()"
   ]
  },
  {
   "cell_type": "code",
   "execution_count": 46,
   "metadata": {},
   "outputs": [
    {
     "data": {
      "text/plain": [
       "41"
      ]
     },
     "execution_count": 46,
     "metadata": {},
     "output_type": "execute_result"
    }
   ],
   "source": [
    "df2['lon2'] = df2['inspection_type'].apply(lambda x: len(x))\n",
    "max(df2['lon2'])"
   ]
  },
  {
   "cell_type": "code",
   "execution_count": 45,
   "metadata": {},
   "outputs": [
    {
     "data": {
      "text/plain": [
       "array(['canvass', 'complaint', 'license', 'canvass re-inspection',\n",
       "       'complaint re-inspection', 'license re-inspection',\n",
       "       'short form complaint', 'suspected food poisoning',\n",
       "       'recent inspection', 'non-inspection', 'consultation',\n",
       "       'tag removal', 'suspected food poisoning re-inspection',\n",
       "       'special events (festivals)', 'complaint-fire re-inspection',\n",
       "       'short form fire-complaint', 'complaint-fire',\n",
       "       'owner suspended operation/license', 'license-task force',\n",
       "       'illegal operation', 'not ready', 'two people ate and got sick.',\n",
       "       'pre-license consultation', 'task force liquor 1475', 'no entry',\n",
       "       'package liquor 1474', 'task force liquor 1470', 'fire/complain',\n",
       "       'task force for liquor 1474', '1315 license reinspection',\n",
       "       'sfp/complaint', 'task force night', 'out of business',\n",
       "       'tavern 1470', 'sfp', 'taskforce', 'license/not ready',\n",
       "       'no entry-short complaint)', 'kids cafe',\n",
       "       'task force(1470) liquor tavern', 'license wrong address',\n",
       "       'license request', 'liquor catering', 'task force package liquor',\n",
       "       'out ofbusiness', 'finish complaint inspection from 5-18-10',\n",
       "       'duplicated', 'recall inspection',\n",
       "       'reinspection of 48 hour notice', 'business not located',\n",
       "       're-inspection of close-up', 'special task force',\n",
       "       'task force not ready', 'liqour task force not ready',\n",
       "       'task force liquor 1474', 'nan', 'license consultation',\n",
       "       'fire complaint', 'canvass special events',\n",
       "       'canvass school/special event', 'license task 1474', 'addendum',\n",
       "       'task force liquor inspection 1474', 'task force liquor catering',\n",
       "       'canvas', 'expansion', 'smoking complaint',\n",
       "       'sfp recently inspected', 'license renewal inspection for daycare',\n",
       "       'license renewal for daycare', 'canvass re inspection of close up',\n",
       "       'license task force / not -for-profit clu',\n",
       "       'license task force / not -for-profit club', 'citf',\n",
       "       'license daycare 1586', 'error save', 'changed court date',\n",
       "       'canvass/special event', 'day care license renewal',\n",
       "       'summer feeding', 'citation re-issued', 'taste of chicago',\n",
       "       'haccp questionaire', 'close-up/complaint reinspection',\n",
       "       'reinspection', 'canvass for rib fest', 'task force',\n",
       "       'task force liquor (1481)', 'possible fbi', \"kids cafe'\",\n",
       "       'task force package goods 1474', 'office assignment',\n",
       "       'covid complaint', 'corrective action', 'sample collection'],\n",
       "      dtype=object)"
      ]
     },
     "execution_count": 45,
     "metadata": {},
     "output_type": "execute_result"
    }
   ],
   "source": [
    "df2[''].unique()"
   ]
  },
  {
   "cell_type": "markdown",
   "metadata": {},
   "source": [
    "### Feature Extraction "
   ]
  },
  {
   "cell_type": "code",
   "execution_count": 64,
   "metadata": {},
   "outputs": [],
   "source": [
    "pickle.dump(df2,open(\"ingesta_limpia.pkl\",\"wb\"))"
   ]
  },
  {
   "cell_type": "code",
   "execution_count": 51,
   "metadata": {},
   "outputs": [],
   "source": [
    "df_fe = pickle.load(open(\"ingesta_limpia.pkl\",\"rb\"))"
   ]
  },
  {
   "cell_type": "markdown",
   "metadata": {},
   "source": [
    "Ordenamos los datos por fecha ascendente, esto nos será útil para usar TimeSeries en el GridSearchCV"
   ]
  },
  {
   "cell_type": "code",
   "execution_count": 52,
   "metadata": {},
   "outputs": [
    {
     "name": "stdout",
     "output_type": "stream",
     "text": [
      "<class 'pandas.core.frame.DataFrame'>\n",
      "Int64Index: 189351 entries, 0 to 189350\n",
      "Data columns (total 13 columns):\n",
      " #   Column            Non-Null Count   Dtype         \n",
      "---  ------            --------------   -----         \n",
      " 0   aka_name          189351 non-null  object        \n",
      " 1   license           189351 non-null  object        \n",
      " 2   facility_type     189351 non-null  object        \n",
      " 3   label_risk        189351 non-null  int64         \n",
      " 4   zip               189351 non-null  object        \n",
      " 5   inspection_date   189351 non-null  datetime64[ns]\n",
      " 6   inspection_type   189351 non-null  object        \n",
      " 7   violations_count  189351 non-null  int64         \n",
      " 8   label_results     189351 non-null  int64         \n",
      " 9   sin_mnth          189351 non-null  float64       \n",
      " 10  cos_mnth          189351 non-null  float64       \n",
      " 11  sin_wkd           189351 non-null  float64       \n",
      " 12  cos_wkd           189351 non-null  float64       \n",
      "dtypes: datetime64[ns](1), float64(4), int64(3), object(5)\n",
      "memory usage: 20.2+ MB\n"
     ]
    }
   ],
   "source": [
    "df_fe.info()"
   ]
  },
  {
   "cell_type": "code",
   "execution_count": 53,
   "metadata": {},
   "outputs": [],
   "source": [
    "df_fe = df_fe.sort_values(by='inspection_date', ascending=True)"
   ]
  },
  {
   "cell_type": "markdown",
   "metadata": {},
   "source": [
    "### One-hot encode para las variables\n",
    "\n",
    "**Utilizamos 'get_dummies' de pandas**\n",
    "\n",
    "Generamos dummies para las variables categóricas"
   ]
  },
  {
   "cell_type": "code",
   "execution_count": 54,
   "metadata": {},
   "outputs": [],
   "source": [
    "df_input = pd.DataFrame(df_fe[['label_risk','label_results','zip','facility_type']])"
   ]
  },
  {
   "cell_type": "code",
   "execution_count": 55,
   "metadata": {},
   "outputs": [],
   "source": [
    "# Generamos dummies para las variables categóricas\n",
    "data_input_ohe = pd.get_dummies(df_input)"
   ]
  },
  {
   "cell_type": "code",
   "execution_count": 56,
   "metadata": {},
   "outputs": [
    {
     "data": {
      "text/plain": [
       "(189351, 547)"
      ]
     },
     "execution_count": 56,
     "metadata": {},
     "output_type": "execute_result"
    }
   ],
   "source": [
    "data_input_ohe.shape"
   ]
  },
  {
   "cell_type": "code",
   "execution_count": 57,
   "metadata": {},
   "outputs": [
    {
     "data": {
      "text/plain": [
       "42075     0\n",
       "42074     0\n",
       "156080    1\n",
       "156079    1\n",
       "156078    1\n",
       "         ..\n",
       "156082    1\n",
       "156083    1\n",
       "156085    1\n",
       "0         0\n",
       "42076     1\n",
       "Name: label_results, Length: 189351, dtype: int64"
      ]
     },
     "execution_count": 57,
     "metadata": {},
     "output_type": "execute_result"
    }
   ],
   "source": [
    "etiqueta = data_input_ohe.label_results\n",
    "etiqueta"
   ]
  },
  {
   "cell_type": "code",
   "execution_count": 58,
   "metadata": {},
   "outputs": [],
   "source": [
    "data_input_ohe= data_input_ohe.drop('label_results', axis = 1)"
   ]
  },
  {
   "cell_type": "code",
   "execution_count": 59,
   "metadata": {},
   "outputs": [],
   "source": [
    "variables_lista = list(data_input_ohe.columns)"
   ]
  },
  {
   "cell_type": "code",
   "execution_count": 60,
   "metadata": {},
   "outputs": [
    {
     "name": "stdout",
     "output_type": "stream",
     "text": [
      "Tiempo en ejecutar:  956.957531452179\n"
     ]
    }
   ],
   "source": [
    "np.random.seed(20201124)\n",
    "\n",
    "import time \n",
    "\n",
    "from sklearn.model_selection import TimeSeriesSplit, GridSearchCV\n",
    "from sklearn.model_selection import train_test_split\n",
    "from sklearn.ensemble import RandomForestClassifier\n",
    "\n",
    "# ocuparemos un RF\n",
    "classifier = RandomForestClassifier(oob_score=True, n_jobs=-1, random_state=1234)\n",
    "# separando en train, test\n",
    "#X_train, X_test, y_train, y_test = train_test_split(data_input_ohe, etiqueta, test_size=0.3)\n",
    "\n",
    "# definicion de los hiperparametros que queremos probar\n",
    "hyper_param_grid = {'n_estimators': [300, 400], #'min_samples_leaf': [3,5,7],\n",
    "                    'max_depth': [7, 10],\n",
    "                    'min_samples_split': [3], 'max_features': [10, 15, 20],\n",
    "                    'criterion': ['gini']}\n",
    "# usamos TimeSeriesSplit para dividir respetando el orden cronológico\n",
    "tscv = TimeSeriesSplit(n_splits=3)\n",
    "# This was the trickiest part as a newbie. Straight from the docs\n",
    "# If you only have experience with CV splits this way\n",
    "# of making the splits might seem foreign. Fret not.\n",
    "for train_index, test_index in tscv.split(data_input_ohe):\n",
    "    X_train, X_test = data_input_ohe.iloc[train_index, :], data_input_ohe.iloc[test_index,:]\n",
    "    y_train, y_test = etiqueta.iloc[train_index], etiqueta.iloc[test_index]\n",
    "    \n",
    "# ocupemos grid search\n",
    "gs = GridSearchCV(classifier, \n",
    "                           hyper_param_grid, \n",
    "                           scoring = 'precision', return_train_score=True,\n",
    "                           cv = tscv, \n",
    "                           n_jobs = -1)\n",
    "start_time = time.time()\n",
    "gs.fit(X_train, y_train)\n",
    "print(\"Tiempo en ejecutar: \", time.time() - start_time)"
   ]
  },
  {
   "cell_type": "code",
   "execution_count": 74,
   "metadata": {},
   "outputs": [
    {
     "data": {
      "text/plain": [
       "(47337, 546)"
      ]
     },
     "execution_count": 74,
     "metadata": {},
     "output_type": "execute_result"
    }
   ],
   "source": [
    "X_test.shape"
   ]
  },
  {
   "cell_type": "markdown",
   "metadata": {},
   "source": [
    "gs.best_params_"
   ]
  },
  {
   "cell_type": "code",
   "execution_count": 97,
   "metadata": {},
   "outputs": [
    {
     "data": {
      "text/plain": [
       "RandomForestClassifier(max_depth=7, max_features=10, min_samples_split=3,\n",
       "                       n_estimators=300, n_jobs=-1, oob_score=True,\n",
       "                       random_state=1234)"
      ]
     },
     "execution_count": 97,
     "metadata": {},
     "output_type": "execute_result"
    }
   ],
   "source": [
    "gs.best_estimator_"
   ]
  },
  {
   "cell_type": "code",
   "execution_count": 98,
   "metadata": {},
   "outputs": [
    {
     "data": {
      "text/plain": [
       "0.7787876437531289"
      ]
     },
     "execution_count": 98,
     "metadata": {},
     "output_type": "execute_result"
    }
   ],
   "source": [
    "gs.best_estimator_.oob_score_"
   ]
  },
  {
   "cell_type": "code",
   "execution_count": 99,
   "metadata": {},
   "outputs": [],
   "source": [
    "best_rf = gs.best_estimator_"
   ]
  },
  {
   "cell_type": "code",
   "execution_count": 100,
   "metadata": {},
   "outputs": [],
   "source": [
    "feature_importance = pd.DataFrame({'importance': best_rf.feature_importances_,\n",
    "                                  'feature': variables_lista})"
   ]
  },
  {
   "cell_type": "code",
   "execution_count": 101,
   "metadata": {},
   "outputs": [
    {
     "data": {
      "text/html": [
       "<div>\n",
       "<style scoped>\n",
       "    .dataframe tbody tr th:only-of-type {\n",
       "        vertical-align: middle;\n",
       "    }\n",
       "\n",
       "    .dataframe tbody tr th {\n",
       "        vertical-align: top;\n",
       "    }\n",
       "\n",
       "    .dataframe thead th {\n",
       "        text-align: right;\n",
       "    }\n",
       "</style>\n",
       "<table border=\"1\" class=\"dataframe\">\n",
       "  <thead>\n",
       "    <tr style=\"text-align: right;\">\n",
       "      <th></th>\n",
       "      <th>importance</th>\n",
       "      <th>feature</th>\n",
       "    </tr>\n",
       "  </thead>\n",
       "  <tbody>\n",
       "    <tr>\n",
       "      <th>0</th>\n",
       "      <td>0.126921</td>\n",
       "      <td>label_risk</td>\n",
       "    </tr>\n",
       "    <tr>\n",
       "      <th>293</th>\n",
       "      <td>0.049829</td>\n",
       "      <td>facility_type_grocery store</td>\n",
       "    </tr>\n",
       "    <tr>\n",
       "      <th>363</th>\n",
       "      <td>0.042947</td>\n",
       "      <td>facility_type_liquor</td>\n",
       "    </tr>\n",
       "    <tr>\n",
       "      <th>458</th>\n",
       "      <td>0.040133</td>\n",
       "      <td>facility_type_restaurant</td>\n",
       "    </tr>\n",
       "    <tr>\n",
       "      <th>61</th>\n",
       "      <td>0.033160</td>\n",
       "      <td>zip_60619</td>\n",
       "    </tr>\n",
       "    <tr>\n",
       "      <th>53</th>\n",
       "      <td>0.032869</td>\n",
       "      <td>zip_60611</td>\n",
       "    </tr>\n",
       "    <tr>\n",
       "      <th>57</th>\n",
       "      <td>0.030647</td>\n",
       "      <td>zip_60615</td>\n",
       "    </tr>\n",
       "    <tr>\n",
       "      <th>43</th>\n",
       "      <td>0.030201</td>\n",
       "      <td>zip_60601</td>\n",
       "    </tr>\n",
       "    <tr>\n",
       "      <th>100</th>\n",
       "      <td>0.025704</td>\n",
       "      <td>zip_60666</td>\n",
       "    </tr>\n",
       "    <tr>\n",
       "      <th>90</th>\n",
       "      <td>0.023914</td>\n",
       "      <td>zip_60651</td>\n",
       "    </tr>\n",
       "    <tr>\n",
       "      <th>537</th>\n",
       "      <td>0.023235</td>\n",
       "      <td>facility_type_wholesale</td>\n",
       "    </tr>\n",
       "    <tr>\n",
       "      <th>79</th>\n",
       "      <td>0.022590</td>\n",
       "      <td>zip_60638</td>\n",
       "    </tr>\n",
       "    <tr>\n",
       "      <th>60</th>\n",
       "      <td>0.020873</td>\n",
       "      <td>zip_60618</td>\n",
       "    </tr>\n",
       "    <tr>\n",
       "      <th>48</th>\n",
       "      <td>0.020813</td>\n",
       "      <td>zip_60606</td>\n",
       "    </tr>\n",
       "    <tr>\n",
       "      <th>389</th>\n",
       "      <td>0.020350</td>\n",
       "      <td>facility_type_mobile food dispenser</td>\n",
       "    </tr>\n",
       "    <tr>\n",
       "      <th>81</th>\n",
       "      <td>0.019403</td>\n",
       "      <td>zip_60640</td>\n",
       "    </tr>\n",
       "    <tr>\n",
       "      <th>93</th>\n",
       "      <td>0.018281</td>\n",
       "      <td>zip_60654</td>\n",
       "    </tr>\n",
       "    <tr>\n",
       "      <th>70</th>\n",
       "      <td>0.018280</td>\n",
       "      <td>zip_60628</td>\n",
       "    </tr>\n",
       "    <tr>\n",
       "      <th>77</th>\n",
       "      <td>0.016872</td>\n",
       "      <td>zip_60636</td>\n",
       "    </tr>\n",
       "    <tr>\n",
       "      <th>78</th>\n",
       "      <td>0.016074</td>\n",
       "      <td>zip_60637</td>\n",
       "    </tr>\n",
       "    <tr>\n",
       "      <th>509</th>\n",
       "      <td>0.014103</td>\n",
       "      <td>facility_type_tavern</td>\n",
       "    </tr>\n",
       "    <tr>\n",
       "      <th>47</th>\n",
       "      <td>0.013591</td>\n",
       "      <td>zip_60605</td>\n",
       "    </tr>\n",
       "    <tr>\n",
       "      <th>488</th>\n",
       "      <td>0.013109</td>\n",
       "      <td>facility_type_shared kitchen user (long term)</td>\n",
       "    </tr>\n",
       "    <tr>\n",
       "      <th>45</th>\n",
       "      <td>0.012854</td>\n",
       "      <td>zip_60603</td>\n",
       "    </tr>\n",
       "    <tr>\n",
       "      <th>481</th>\n",
       "      <td>0.011863</td>\n",
       "      <td>facility_type_school</td>\n",
       "    </tr>\n",
       "    <tr>\n",
       "      <th>46</th>\n",
       "      <td>0.011601</td>\n",
       "      <td>zip_60604</td>\n",
       "    </tr>\n",
       "    <tr>\n",
       "      <th>390</th>\n",
       "      <td>0.011501</td>\n",
       "      <td>facility_type_mobile food preparer</td>\n",
       "    </tr>\n",
       "    <tr>\n",
       "      <th>85</th>\n",
       "      <td>0.010443</td>\n",
       "      <td>zip_60644</td>\n",
       "    </tr>\n",
       "    <tr>\n",
       "      <th>44</th>\n",
       "      <td>0.008320</td>\n",
       "      <td>zip_60602</td>\n",
       "    </tr>\n",
       "    <tr>\n",
       "      <th>230</th>\n",
       "      <td>0.008083</td>\n",
       "      <td>facility_type_daycare above and under 2 years</td>\n",
       "    </tr>\n",
       "    <tr>\n",
       "      <th>91</th>\n",
       "      <td>0.008029</td>\n",
       "      <td>zip_60652</td>\n",
       "    </tr>\n",
       "    <tr>\n",
       "      <th>64</th>\n",
       "      <td>0.008013</td>\n",
       "      <td>zip_60622</td>\n",
       "    </tr>\n",
       "    <tr>\n",
       "      <th>92</th>\n",
       "      <td>0.007733</td>\n",
       "      <td>zip_60653</td>\n",
       "    </tr>\n",
       "    <tr>\n",
       "      <th>76</th>\n",
       "      <td>0.007451</td>\n",
       "      <td>zip_60634</td>\n",
       "    </tr>\n",
       "    <tr>\n",
       "      <th>183</th>\n",
       "      <td>0.007344</td>\n",
       "      <td>facility_type_children's services facility</td>\n",
       "    </tr>\n",
       "    <tr>\n",
       "      <th>99</th>\n",
       "      <td>0.007000</td>\n",
       "      <td>zip_60661</td>\n",
       "    </tr>\n",
       "    <tr>\n",
       "      <th>71</th>\n",
       "      <td>0.006779</td>\n",
       "      <td>zip_60629</td>\n",
       "    </tr>\n",
       "    <tr>\n",
       "      <th>97</th>\n",
       "      <td>0.005925</td>\n",
       "      <td>zip_60659</td>\n",
       "    </tr>\n",
       "    <tr>\n",
       "      <th>65</th>\n",
       "      <td>0.005686</td>\n",
       "      <td>zip_60623</td>\n",
       "    </tr>\n",
       "    <tr>\n",
       "      <th>223</th>\n",
       "      <td>0.005179</td>\n",
       "      <td>facility_type_daycare (2 - 6 years)</td>\n",
       "    </tr>\n",
       "  </tbody>\n",
       "</table>\n",
       "</div>"
      ],
      "text/plain": [
       "     importance                                        feature\n",
       "0      0.126921                                     label_risk\n",
       "293    0.049829                    facility_type_grocery store\n",
       "363    0.042947                           facility_type_liquor\n",
       "458    0.040133                       facility_type_restaurant\n",
       "61     0.033160                                      zip_60619\n",
       "53     0.032869                                      zip_60611\n",
       "57     0.030647                                      zip_60615\n",
       "43     0.030201                                      zip_60601\n",
       "100    0.025704                                      zip_60666\n",
       "90     0.023914                                      zip_60651\n",
       "537    0.023235                        facility_type_wholesale\n",
       "79     0.022590                                      zip_60638\n",
       "60     0.020873                                      zip_60618\n",
       "48     0.020813                                      zip_60606\n",
       "389    0.020350            facility_type_mobile food dispenser\n",
       "81     0.019403                                      zip_60640\n",
       "93     0.018281                                      zip_60654\n",
       "70     0.018280                                      zip_60628\n",
       "77     0.016872                                      zip_60636\n",
       "78     0.016074                                      zip_60637\n",
       "509    0.014103                           facility_type_tavern\n",
       "47     0.013591                                      zip_60605\n",
       "488    0.013109  facility_type_shared kitchen user (long term)\n",
       "45     0.012854                                      zip_60603\n",
       "481    0.011863                           facility_type_school\n",
       "46     0.011601                                      zip_60604\n",
       "390    0.011501             facility_type_mobile food preparer\n",
       "85     0.010443                                      zip_60644\n",
       "44     0.008320                                      zip_60602\n",
       "230    0.008083  facility_type_daycare above and under 2 years\n",
       "91     0.008029                                      zip_60652\n",
       "64     0.008013                                      zip_60622\n",
       "92     0.007733                                      zip_60653\n",
       "76     0.007451                                      zip_60634\n",
       "183    0.007344     facility_type_children's services facility\n",
       "99     0.007000                                      zip_60661\n",
       "71     0.006779                                      zip_60629\n",
       "97     0.005925                                      zip_60659\n",
       "65     0.005686                                      zip_60623\n",
       "223    0.005179            facility_type_daycare (2 - 6 years)"
      ]
     },
     "execution_count": 101,
     "metadata": {},
     "output_type": "execute_result"
    }
   ],
   "source": [
    "feature_importance=feature_importance.sort_values(by=\"importance\", ascending=False)\n",
    "feature_importance.head(40)"
   ]
  },
  {
   "cell_type": "code",
   "execution_count": 70,
   "metadata": {},
   "outputs": [
    {
     "data": {
      "text/plain": [
       "438"
      ]
     },
     "execution_count": 70,
     "metadata": {},
     "output_type": "execute_result"
    }
   ],
   "source": [
    "len(df_fe['facility_type'].unique().tolist())"
   ]
  },
  {
   "cell_type": "code",
   "execution_count": 71,
   "metadata": {},
   "outputs": [
    {
     "data": {
      "text/plain": [
       "107"
      ]
     },
     "execution_count": 71,
     "metadata": {},
     "output_type": "execute_result"
    }
   ],
   "source": [
    "len(df_fe['zip'].unique().tolist())"
   ]
  },
  {
   "cell_type": "code",
   "execution_count": 72,
   "metadata": {},
   "outputs": [
    {
     "data": {
      "text/plain": [
       "4"
      ]
     },
     "execution_count": 72,
     "metadata": {},
     "output_type": "execute_result"
    }
   ],
   "source": [
    "len(df_fe['label_risk'].unique().tolist())"
   ]
  },
  {
   "cell_type": "code",
   "execution_count": 73,
   "metadata": {},
   "outputs": [
    {
     "data": {
      "text/plain": [
       "549"
      ]
     },
     "execution_count": 73,
     "metadata": {},
     "output_type": "execute_result"
    }
   ],
   "source": [
    "438+107+4"
   ]
  }
 ],
 "metadata": {
  "kernelspec": {
   "display_name": "Python 3",
   "language": "python",
   "name": "python3"
  },
  "language_info": {
   "codemirror_mode": {
    "name": "ipython",
    "version": 3
   },
   "file_extension": ".py",
   "mimetype": "text/x-python",
   "name": "python",
   "nbconvert_exporter": "python",
   "pygments_lexer": "ipython3",
   "version": "3.8.3"
  }
 },
 "nbformat": 4,
 "nbformat_minor": 4
}
