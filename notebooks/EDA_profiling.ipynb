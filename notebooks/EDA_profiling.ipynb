{
 "cells": [
  {
   "cell_type": "markdown",
   "metadata": {},
   "source": [
    "## Proyecto en Equipo: Producto de Datos sobre la bd Chicago Food Inspections.\n",
    "### Maestría en Ciencia de Datos, ITAM\n",
    "**Data Product Architecture (aka Métodos de Gran Escala)**  \n",
    "**Prof. M. Sc. Liliana Millán Núñez**\n",
    "_______\n",
    "> **Equipo: Luigi007. Github:**\n",
    "\n",
    "| Github User  | Alumno\t\t\t   |\n",
    "|:------------:|:-----------------:|\n",
    "| @Carlosrlpzi | LS, CARLOS ROMAN  |\n",
    "| @urieluard   | RD, URIEL ABRAHAM |\n",
    "| @            | EMPTY             |\n",
    "| @ZarCorvus   | ZC, JOSE LUIS R.  |\n",
    "\n",
    "_______\n",
    "\n",
    "#### Base de datos\n",
    "[Chicago Food Inspections](https://data.cityofchicago.org/Health-Human-Services/Food-Inspections/4ijn-s7e5)  \n",
    "Pregunta analítica: **¿El establecimiento pasará o no la inspección?**\n",
    "\n",
    "_______\n",
    "**Checkpoint 1: Starting point**\n",
    "#### EDA, Data Profiling\n",
    "\n",
    "* 4 visualizaciones de los datos\n",
    "* 1 mapa indicando las inspecciones que pasaron y las que no (histórico)\n",
    "_______\n",
    "\n",
    "#### Conocimiento a priori de la información:\n",
    "* **_Title:_** Food Inspections\n",
    "\n",
    "* **_Descripción:_**  \n",
    "  * La información se obtiene de las inspecciones de restaurants y otros establecimientos de comida en Chicago desde 01/01/2010 hasta la actualidad.\n",
    "  * Las inspecciones se realizan por personal del Chicago Department of Public Health’s Food Protection Program siguiendo un procedimiento estandarizado.\n",
    "  * Se debe precisar que en **01/07/2018 se realizaron modificaciones** a los procedimientos de inspección que afectan a los datos. Estructuralmente el dataset no será afectado. No obstante, la columna **\"Violations\"**, si bien aún contiene el número de violación, descripción y comentarios delimitando violaciones independientes con el \"pipe character\", las violaciones actuales se modificaron substancialmente. Debemos ser cuidadosos al analizar los datos en los posibles cambios de tendencia en el largo plazo. [FOOD INSPECTION VIOLATIONS CHANGES](http://bit.ly/2yWd2JB).\n",
    "  * En adición, encontramos la modificación a los siguientes términos (**validar en la información**) [2019 Chicago Food Code Major Changes ](https://www.cityofchicago.org/city/en/depts/cdph/provdrs/healthy_restaurants/svcs/food-protection-services.html.):\n",
    "     * Potentially Hazardous Foods (PHF)\" has been changed to “Time/Temperature Control for Safety Foods (TCS Foods)\"\n",
    "     * \"Critical Violation\" has been changed to “Priority (P) Violation\"\n",
    "     * \"Serious Violation\" has been changed to \"Priority Foundation (PF)Violation\"\n",
    "     * \"Minor Violation\" has been changed to \"Core (C) Violation\"\n",
    "     * \"Corrected During Inspection (CDI)\" has been changed to \"Corrected on Site (COS)\"\n",
    " \n",
    "* **_METADATA ¿qué sabemos de las variables? y posible tratamiento:_**  \n",
    "Se realizará limpieza sobre los nombres de columnas del dataset: lowercase, underscore para espacios y sustitución de símbolos. En particular, observaremos lo siguiente en cada variable:\n",
    "\n",
    "  * **Inspection ID**: N/I. Analizar si este ID nos resulta funcional, posible variable a eliminar\n",
    "  * **DBA Name:** Nombre legal del establecimiento. Analizar si es una variable funcional comparando con \"AKA Name\"\n",
    "  * **AKA Name:** Nombre público como se conoce al establecimiento. Facilita diferenciar cadenas comerciales de negocios locales. Revisar vs DBA para determinar cual varible se debe conservar. \n",
    "  * **License #:** Número **único** asignado al establecimiento con fines de licenciamiento.\n",
    "  * **Facility Type:** Esta variable debe estar fuertemente correlacionada con que un negocio pase o no la inspección. Analizar:  \n",
    "    <<bakery, banquet hall, candy store, caterer, coffee shop, day care center (for ages less than 2), day care center (for ages 2 – 6), day care center (combo, for ages less than 2 and 2 – 6 combined), gas station, Golden Diner, grocery store, hospital, long term care center(nursing home), liquor store, mobile food dispenser, restaurant, paleteria, school,shelter, tavern, social club, wholesaler, or Wrigley Field Rooftop.>>  \n",
    "  * **Risk:** Esta variable de estar fuertemente correlacionada con \"Facility Type\", revisar. Cada establecimiento se categoriza de acuerdo al riesgo de afectar la salud pública. 1 el más alto riesgo y 3 el menor. **La frecuencia de las inspecciones está ligada a su nivel de riesgo.**\n",
    "  * **Address, City, State, Zip:** 4 variables que componen la dirección completa donde se localizan las instalaciones. Es altamente probable que para nuestro análisis únicamente la variable ZIP sea relevante.  \n",
    "  * **Inspection Date:** Fecha de inspección. Es probable que un establecimiento específico tenga múltiples inspecciones, las cuales serán diferenciadas por la fecha. Variable muy importante para el análisis temporal.\n",
    "  * **Inspection Type:**  \n",
    "      canvass, the most common type of inspection performed at a frequency relative to the risk of the establishment;  \n",
    "      consultation, when the inspection is done at the request of the owner prior to the opening of the establishment;  \n",
    "      complaint, when the inspection is done in response to a complaint against the establishment;  \n",
    "      license, when the inspection is done as a requirement for the establishment to receive its license to operate;  \n",
    "      suspect food poisoning, when the inspection is done in response to one or more persons claiming to have gotten ill as a result of eating at the establishment;  \n",
    "      task-force inspection, when an inspection of a bar or tavern is done.  \n",
    "      **_Re-inspections can occur for most types of these inspections and are indicated as such._**\n",
    "  * **Results:** **TARGET VARIABLE**. Pass, pass with conditions, fail, out of business or not located; 'pass' implica que no se tienen violaciones críticas o severas (códigos de violación 1-14 y 15-29 respectivamente). 'pass with conditions', se encontraton violaciones críticas o severas, pero fueron corregidas durante la inspección. 'fail' implica que se tienen violaciones críticas o severas y que no se corrigieron durante la inspección. \n",
    "  * **Violations:** Variable relevante para nuestro análisis. Un establecimiento puede recibir más de una de las 45 distintas violaciones (código de violación 1 al 44 y 70).\n",
    "  * **Latitude, Longitude, Location:** N/I. Variables sumamente importantes para construir mapas. Se considera que \"Location\" es una variable redundante; no obstante, previo a depurarla, se debe analizar que la composición de \"Latitude\" y \"Longitude\" sea congruente con \"Location\" y, en caso necesario y factible, completar info faltante.\n",
    "\n",
    "\n",
    "* **_Disclaimer:_**  \n",
    "El dataset puede contener reportes **duplicados** por lo que deben considerarse las precauciones adecuadas al visualizar y analizar esta información. Los resultdos de la inspección (pass, pass with conditions or fail) así como las violaciones (\"violations\") se basan en los hallazgos reportados por los inspectores al momento de la inspección y podrían no reflejar los hallazgos en otros momentos. \n",
    "\n",
    "* **_Frecuencia:_** Esta base de datos se actualiza con información de nuevas inspecciones cada viernes."
   ]
  },
  {
   "cell_type": "code",
   "execution_count": 3,
   "metadata": {},
   "outputs": [],
   "source": [
    "# loading libraries required\n",
    "\n",
    "import numpy as np\n",
    "import pandas as pd\n",
    "import seaborn as sns\n",
    "import matplotlib.pyplot as plt\n",
    "import matplotlib\n"
   ]
  },
  {
   "cell_type": "code",
   "execution_count": 6,
   "metadata": {},
   "outputs": [],
   "source": [
    "# load database\n",
    "\n",
    "fi_data = pd.read_csv('Food_Inspections.csv')\n"
   ]
  },
  {
   "cell_type": "code",
   "execution_count": 5,
   "metadata": {},
   "outputs": [
    {
     "data": {
      "text/plain": [
       "Inspection ID      215067\n",
       "DBA Name            28748\n",
       "AKA Name            27355\n",
       "License #           39103\n",
       "Facility Type         500\n",
       "Risk                    4\n",
       "Address             18522\n",
       "City                   70\n",
       "State                   4\n",
       "Zip                   112\n",
       "Inspection Date      2796\n",
       "Inspection Type       110\n",
       "Results                 7\n",
       "Violations         156694\n",
       "Latitude            17246\n",
       "Longitude           17246\n",
       "Location            17246\n",
       "dtype: int64"
      ]
     },
     "execution_count": 5,
     "metadata": {},
     "output_type": "execute_result"
    }
   ],
   "source": [
    "fi_data.nunique()"
   ]
  },
  {
   "cell_type": "code",
   "execution_count": null,
   "metadata": {},
   "outputs": [],
   "source": []
  }
 ],
 "metadata": {
  "kernelspec": {
   "display_name": "Python 3",
   "language": "python",
   "name": "python3"
  },
  "language_info": {
   "codemirror_mode": {
    "name": "ipython",
    "version": 3
   },
   "file_extension": ".py",
   "mimetype": "text/x-python",
   "name": "python",
   "nbconvert_exporter": "python",
   "pygments_lexer": "ipython3",
   "version": "3.8.3"
  }
 },
 "nbformat": 4,
 "nbformat_minor": 4
}
