{
 "cells": [
  {
   "cell_type": "markdown",
   "id": "geographic-stylus",
   "metadata": {},
   "source": [
    "## Bias & Fairness"
   ]
  },
  {
   "cell_type": "code",
   "execution_count": 1,
   "id": "inappropriate-income",
   "metadata": {},
   "outputs": [],
   "source": [
    "import pandas as pd\n",
    "import pickle\n",
    "from sklearn.tree import DecisionTreeClassifier"
   ]
  },
  {
   "cell_type": "code",
   "execution_count": 2,
   "id": "freelance-worthy",
   "metadata": {},
   "outputs": [],
   "source": [
    "df_raw = pickle.load(open(\"df_raw.pkl\",\"rb\"))\n",
    "df_clean = pickle.load(open(\"df_clean.pkl\",\"rb\"))\n",
    "df_fe = pickle.load(open(\"df_fe.pkl\",\"rb\"))\n",
    "m = pickle.load(open(\"best_model.pkl\",\"rb\"))\n",
    "df_trn_tst = pickle.load(open(\"df_trn_tst.pkl\",\"rb\"))"
   ]
  },
  {
   "cell_type": "markdown",
   "id": "lesbian-quarter",
   "metadata": {},
   "source": [
    "## Facility type classification"
   ]
  },
  {
   "cell_type": "markdown",
   "id": "educational-alert",
   "metadata": {},
   "source": [
    "Podemos agrupar los tipos de establecimiento considerando los primeros 5 grupos más dominantes (Restaurant, Grocery Store, School, Children's services facility y Bakery) y agregar un sexto que se conforme de los 4 tipos de establecimientos tipo 'care' (Daycare 2-6 years, Daycare above and under 2 years, Long term care y Daycare combo). El resto quedaría en categoría 'others'"
   ]
  },
  {
   "cell_type": "code",
   "execution_count": 21,
   "id": "standard-exemption",
   "metadata": {},
   "outputs": [
    {
     "data": {
      "text/html": [
       "<div>\n",
       "<style scoped>\n",
       "    .dataframe tbody tr th:only-of-type {\n",
       "        vertical-align: middle;\n",
       "    }\n",
       "\n",
       "    .dataframe tbody tr th {\n",
       "        vertical-align: top;\n",
       "    }\n",
       "\n",
       "    .dataframe thead th {\n",
       "        text-align: right;\n",
       "    }\n",
       "</style>\n",
       "<table border=\"1\" class=\"dataframe\">\n",
       "  <thead>\n",
       "    <tr style=\"text-align: right;\">\n",
       "      <th></th>\n",
       "      <th>facility_type</th>\n",
       "      <th>name</th>\n",
       "    </tr>\n",
       "  </thead>\n",
       "  <tbody>\n",
       "    <tr>\n",
       "      <th>0</th>\n",
       "      <td>103554</td>\n",
       "      <td>restaurant</td>\n",
       "    </tr>\n",
       "    <tr>\n",
       "      <th>1</th>\n",
       "      <td>20887</td>\n",
       "      <td>grocery store</td>\n",
       "    </tr>\n",
       "    <tr>\n",
       "      <th>2</th>\n",
       "      <td>11886</td>\n",
       "      <td>school</td>\n",
       "    </tr>\n",
       "    <tr>\n",
       "      <th>3</th>\n",
       "      <td>2973</td>\n",
       "      <td>children's services facility</td>\n",
       "    </tr>\n",
       "    <tr>\n",
       "      <th>4</th>\n",
       "      <td>2368</td>\n",
       "      <td>bakery</td>\n",
       "    </tr>\n",
       "    <tr>\n",
       "      <th>5</th>\n",
       "      <td>2300</td>\n",
       "      <td>daycare (2 - 6 years)</td>\n",
       "    </tr>\n",
       "    <tr>\n",
       "      <th>6</th>\n",
       "      <td>2222</td>\n",
       "      <td>daycare above and under 2 years</td>\n",
       "    </tr>\n",
       "    <tr>\n",
       "      <th>7</th>\n",
       "      <td>1109</td>\n",
       "      <td>long term care</td>\n",
       "    </tr>\n",
       "    <tr>\n",
       "      <th>8</th>\n",
       "      <td>907</td>\n",
       "      <td>catering</td>\n",
       "    </tr>\n",
       "    <tr>\n",
       "      <th>9</th>\n",
       "      <td>770</td>\n",
       "      <td>mobile food dispenser</td>\n",
       "    </tr>\n",
       "    <tr>\n",
       "      <th>10</th>\n",
       "      <td>763</td>\n",
       "      <td>liquor</td>\n",
       "    </tr>\n",
       "    <tr>\n",
       "      <th>11</th>\n",
       "      <td>565</td>\n",
       "      <td>daycare combo 1586</td>\n",
       "    </tr>\n",
       "    <tr>\n",
       "      <th>12</th>\n",
       "      <td>519</td>\n",
       "      <td>mobile food preparer</td>\n",
       "    </tr>\n",
       "    <tr>\n",
       "      <th>13</th>\n",
       "      <td>505</td>\n",
       "      <td>golden diner</td>\n",
       "    </tr>\n",
       "    <tr>\n",
       "      <th>14</th>\n",
       "      <td>497</td>\n",
       "      <td>wholesale</td>\n",
       "    </tr>\n",
       "  </tbody>\n",
       "</table>\n",
       "</div>"
      ],
      "text/plain": [
       "    facility_type                             name\n",
       "0          103554                       restaurant\n",
       "1           20887                    grocery store\n",
       "2           11886                           school\n",
       "3            2973     children's services facility\n",
       "4            2368                           bakery\n",
       "5            2300            daycare (2 - 6 years)\n",
       "6            2222  daycare above and under 2 years\n",
       "7            1109                   long term care\n",
       "8             907                         catering\n",
       "9             770            mobile food dispenser\n",
       "10            763                           liquor\n",
       "11            565               daycare combo 1586\n",
       "12            519             mobile food preparer\n",
       "13            505                     golden diner\n",
       "14            497                        wholesale"
      ]
     },
     "execution_count": 21,
     "metadata": {},
     "output_type": "execute_result"
    }
   ],
   "source": [
    "tipo = pd.DataFrame(df_fe.facility_type.value_counts())\n",
    "tipo['name'] = tipo.index\n",
    "tipo.index = range(len(tipo.name))\n",
    "tipo.head(15)"
   ]
  },
  {
   "cell_type": "markdown",
   "id": "integrated-details",
   "metadata": {},
   "source": [
    "La categoría 'others' quedría con alrededor del 6% de representación"
   ]
  },
  {
   "cell_type": "code",
   "execution_count": 10,
   "id": "agricultural-burning",
   "metadata": {},
   "outputs": [
    {
     "data": {
      "text/plain": [
       "facility_type    0.94149\n",
       "dtype: float64"
      ]
     },
     "execution_count": 10,
     "metadata": {},
     "output_type": "execute_result"
    }
   ],
   "source": [
    "tipo.iloc[0:8,].sum()/tipo.facility_type.sum()"
   ]
  },
  {
   "cell_type": "code",
   "execution_count": 25,
   "id": "quarterly-savings",
   "metadata": {},
   "outputs": [
    {
     "data": {
      "text/plain": [
       "['daycare (2 - 6 years)',\n",
       " 'daycare above and under 2 years',\n",
       " 'long term care',\n",
       " 'daycare combo 1586']"
      ]
     },
     "execution_count": 25,
     "metadata": {},
     "output_type": "execute_result"
    }
   ],
   "source": [
    "grupo1 = tipo.iloc[0:4,1].tolist()\n",
    "grupo2 = tipo.iloc[[5,6,7,11],1].tolist()"
   ]
  },
  {
   "cell_type": "code",
   "execution_count": 28,
   "id": "personalized-ethnic",
   "metadata": {},
   "outputs": [],
   "source": [
    "df_fe['class'] = df_fe['facility_type'].apply(lambda x: x if x in grupo1 else ('daycare' if x in grupo2 else 'other'))"
   ]
  },
  {
   "cell_type": "markdown",
   "id": "consistent-spider",
   "metadata": {},
   "source": [
    "### Categorías resultantes"
   ]
  },
  {
   "cell_type": "code",
   "execution_count": 29,
   "id": "wanted-damage",
   "metadata": {},
   "outputs": [
    {
     "data": {
      "text/plain": [
       "restaurant                      103554\n",
       "grocery store                    20887\n",
       "school                           11886\n",
       "other                            10957\n",
       "daycare                           6196\n",
       "children's services facility      2973\n",
       "Name: class, dtype: int64"
      ]
     },
     "execution_count": 29,
     "metadata": {},
     "output_type": "execute_result"
    }
   ],
   "source": [
    "df_fe['class'].value_counts()"
   ]
  },
  {
   "cell_type": "markdown",
   "id": "critical-netherlands",
   "metadata": {},
   "source": [
    "## Zip Code classification"
   ]
  },
  {
   "cell_type": "markdown",
   "id": "powerful-performer",
   "metadata": {},
   "source": [
    "La otra forma de asignar categoría y determinar grupos protegidos es por medio del zip code. Categorizando los códigos por nivel de desarrollo o income de las difernetes zonas de Chicago:\n",
    "- High\n",
    "- Low-Medium\n",
    "- Downtown\n",
    "\n",
    "Las que no se ubiquen se pondrían en la categoría 'others'"
   ]
  },
  {
   "cell_type": "markdown",
   "id": "unauthorized-dylan",
   "metadata": {},
   "source": [
    "***Referencias:***\n",
    "- https://www.chicago.gov/city/en.html\n",
    "- https://www.chicago.gov/content/dam/city/sites/covid/reports/2020-04-24/ChicagoCommunityAreaandZipcodeMap.pdf\n",
    "- https://voorheescenter.wordpress.com/2015/10/13/the-affordability-challenge-chicago-updates-the-affordable-requirements-ordinance/\n",
    "- https://www.chicagohealthatlas.org/community-areas"
   ]
  },
  {
   "cell_type": "markdown",
   "id": "affiliated-oregon",
   "metadata": {},
   "source": [
    "Se agrupan de acuerdo con información del gobierno de Chicago"
   ]
  },
  {
   "cell_type": "code",
   "execution_count": 12,
   "id": "activated-incentive",
   "metadata": {},
   "outputs": [],
   "source": [
    "lev = pd.read_csv('levels.csv')\n",
    "lev['zip'] = lev['zip'].astype(str)"
   ]
  },
  {
   "cell_type": "code",
   "execution_count": 13,
   "id": "balanced-adult",
   "metadata": {},
   "outputs": [],
   "source": [
    "lev.index = lev.zip\n",
    "dic = lev.level.to_dict()"
   ]
  },
  {
   "cell_type": "code",
   "execution_count": 14,
   "id": "cutting-calculation",
   "metadata": {},
   "outputs": [],
   "source": [
    "def zips(x):\n",
    "    if x in lev.zip.to_list():\n",
    "        return dic[x]\n",
    "    else:\n",
    "        return 'other'\n",
    "    \n",
    "df_fe['level'] = df_fe['zip'].apply(lambda x: zips(x))"
   ]
  },
  {
   "cell_type": "markdown",
   "id": "tamil-oxide",
   "metadata": {},
   "source": [
    "### Categorías resultantes"
   ]
  },
  {
   "cell_type": "code",
   "execution_count": 15,
   "id": "boxed-narrow",
   "metadata": {},
   "outputs": [
    {
     "data": {
      "text/plain": [
       "high        88290\n",
       "low-mid     36769\n",
       "downtown    24847\n",
       "other        6547\n",
       "Name: level, dtype: int64"
      ]
     },
     "execution_count": 15,
     "metadata": {},
     "output_type": "execute_result"
    }
   ],
   "source": [
    "df_fe.level.value_counts()"
   ]
  },
  {
   "cell_type": "code",
   "execution_count": 5,
   "id": "institutional-candidate",
   "metadata": {},
   "outputs": [
    {
     "name": "stdout",
     "output_type": "stream",
     "text": [
      "<class 'pandas.core.frame.DataFrame'>\n",
      "Int64Index: 156453 entries, 0 to 156452\n",
      "Data columns (total 13 columns):\n",
      " #   Column            Non-Null Count   Dtype         \n",
      "---  ------            --------------   -----         \n",
      " 0   license           156453 non-null  object        \n",
      " 1   facility_type     156453 non-null  object        \n",
      " 2   label_risk        156453 non-null  int32         \n",
      " 3   zip               156453 non-null  object        \n",
      " 4   inspection_date   156453 non-null  datetime64[ns]\n",
      " 5   inspection_type   156452 non-null  object        \n",
      " 6   aka_name          156453 non-null  object        \n",
      " 7   violations_count  156453 non-null  int32         \n",
      " 8   sin_mnth          156453 non-null  float64       \n",
      " 9   cos_mnth          156453 non-null  float64       \n",
      " 10  sin_wkd           156453 non-null  float64       \n",
      " 11  cos_wkd           156453 non-null  float64       \n",
      " 12  label_results     156453 non-null  int64         \n",
      "dtypes: datetime64[ns](1), float64(4), int32(2), int64(1), object(5)\n",
      "memory usage: 15.5+ MB\n"
     ]
    }
   ],
   "source": [
    "df_clean.info()"
   ]
  }
 ],
 "metadata": {
  "kernelspec": {
   "display_name": "Python 3",
   "language": "python",
   "name": "python3"
  },
  "language_info": {
   "codemirror_mode": {
    "name": "ipython",
    "version": 3
   },
   "file_extension": ".py",
   "mimetype": "text/x-python",
   "name": "python",
   "nbconvert_exporter": "python",
   "pygments_lexer": "ipython3",
   "version": "3.7.9"
  }
 },
 "nbformat": 4,
 "nbformat_minor": 5
}
